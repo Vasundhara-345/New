{
 "cells": [
  {
   "cell_type": "code",
   "execution_count": null,
   "id": "67d9125f",
   "metadata": {},
   "outputs": [],
   "source": [
    "# Data Manipulation"
   ]
  },
  {
   "cell_type": "code",
   "execution_count": 1,
   "id": "e24fb440",
   "metadata": {},
   "outputs": [],
   "source": [
    "a = 10"
   ]
  },
  {
   "cell_type": "code",
   "execution_count": 2,
   "id": "0e41d8fa",
   "metadata": {},
   "outputs": [
    {
     "data": {
      "text/plain": [
       "int"
      ]
     },
     "execution_count": 2,
     "metadata": {},
     "output_type": "execute_result"
    }
   ],
   "source": [
    "type(a)"
   ]
  },
  {
   "cell_type": "code",
   "execution_count": 3,
   "id": "0e778b7e",
   "metadata": {},
   "outputs": [
    {
     "data": {
      "text/plain": [
       "2138530146896"
      ]
     },
     "execution_count": 3,
     "metadata": {},
     "output_type": "execute_result"
    }
   ],
   "source": [
    "id(a)"
   ]
  },
  {
   "cell_type": "code",
   "execution_count": 4,
   "id": "8b67a8d2",
   "metadata": {},
   "outputs": [
    {
     "data": {
      "text/plain": [
       "'0x1f1ea546a50'"
      ]
     },
     "execution_count": 4,
     "metadata": {},
     "output_type": "execute_result"
    }
   ],
   "source": [
    "hex(id(a))  # Returns hexadecimal address of given variable."
   ]
  },
  {
   "cell_type": "code",
   "execution_count": 5,
   "id": "cb52e39b",
   "metadata": {},
   "outputs": [],
   "source": [
    "a = 'abc'   # Value changed from integer to string data type."
   ]
  },
  {
   "cell_type": "code",
   "execution_count": 6,
   "id": "63fb0bde",
   "metadata": {},
   "outputs": [
    {
     "data": {
      "text/plain": [
       "str"
      ]
     },
     "execution_count": 6,
     "metadata": {},
     "output_type": "execute_result"
    }
   ],
   "source": [
    "type(a)"
   ]
  },
  {
   "cell_type": "code",
   "execution_count": 7,
   "id": "db2ed804",
   "metadata": {},
   "outputs": [
    {
     "data": {
      "text/plain": [
       "2138532667760"
      ]
     },
     "execution_count": 7,
     "metadata": {},
     "output_type": "execute_result"
    }
   ],
   "source": [
    "id(a)"
   ]
  },
  {
   "cell_type": "code",
   "execution_count": 8,
   "id": "89bdbb93",
   "metadata": {},
   "outputs": [
    {
     "data": {
      "text/plain": [
       "'0x1f1ea7ae170'"
      ]
     },
     "execution_count": 8,
     "metadata": {},
     "output_type": "execute_result"
    }
   ],
   "source": [
    "hex(id(a))  # Memory address changes even if variable name is the same."
   ]
  },
  {
   "cell_type": "code",
   "execution_count": 9,
   "id": "86de41b4",
   "metadata": {},
   "outputs": [],
   "source": [
    "# List vs Numpy"
   ]
  },
  {
   "cell_type": "code",
   "execution_count": 10,
   "id": "b4a5f8f6",
   "metadata": {},
   "outputs": [],
   "source": [
    "import sys "
   ]
  },
  {
   "cell_type": "code",
   "execution_count": 11,
   "id": "805a2077",
   "metadata": {},
   "outputs": [],
   "source": [
    "list1 = range(1000)"
   ]
  },
  {
   "cell_type": "code",
   "execution_count": 12,
   "id": "d83c81b5",
   "metadata": {},
   "outputs": [
    {
     "name": "stdout",
     "output_type": "stream",
     "text": [
      "28000\n"
     ]
    }
   ],
   "source": [
    "print(len(list1) * sys.getsizeof(5))  # To store 1000 elements, 28000 bytes / "
   ]
  },
  {
   "cell_type": "markdown",
   "id": "3f6f5b96",
   "metadata": {},
   "source": [
    "# Numpy"
   ]
  },
  {
   "cell_type": "code",
   "execution_count": 13,
   "id": "81b3156b",
   "metadata": {},
   "outputs": [],
   "source": [
    "import numpy as np"
   ]
  },
  {
   "cell_type": "code",
   "execution_count": 17,
   "id": "ab85b63d",
   "metadata": {},
   "outputs": [],
   "source": [
    "array1 = np.arange(1000)"
   ]
  },
  {
   "cell_type": "code",
   "execution_count": 18,
   "id": "f219b563",
   "metadata": {},
   "outputs": [
    {
     "name": "stdout",
     "output_type": "stream",
     "text": [
      "4000\n"
     ]
    }
   ],
   "source": [
    "print(array1.size * array1.itemsize)   # 1000 elements - 4000 bytes"
   ]
  },
  {
   "cell_type": "code",
   "execution_count": 19,
   "id": "b9ac7cc7",
   "metadata": {},
   "outputs": [],
   "source": [
    "# ndarray is faster than Python lists"
   ]
  },
  {
   "cell_type": "code",
   "execution_count": 20,
   "id": "0609c476",
   "metadata": {},
   "outputs": [],
   "source": [
    "size = 1000"
   ]
  },
  {
   "cell_type": "code",
   "execution_count": 22,
   "id": "b6469d97",
   "metadata": {},
   "outputs": [],
   "source": [
    "l1 = range(size)\n",
    "l2 = range(size)"
   ]
  },
  {
   "cell_type": "code",
   "execution_count": 23,
   "id": "1e4ed530",
   "metadata": {},
   "outputs": [],
   "source": [
    "a1 = np.arange(size)\n",
    "a2 = np.arange(size)"
   ]
  },
  {
   "cell_type": "code",
   "execution_count": 24,
   "id": "8a6e2ef6",
   "metadata": {},
   "outputs": [],
   "source": [
    "import time"
   ]
  },
  {
   "cell_type": "code",
   "execution_count": 37,
   "id": "06ecac2b",
   "metadata": {},
   "outputs": [
    {
     "name": "stdout",
     "output_type": "stream",
     "text": [
      "Python list took: 0.7791519165039062\n"
     ]
    }
   ],
   "source": [
    "start = time.time()\n",
    "result = [(x + y) for x,y in zip(l1, l2)]\n",
    "print(\"Python list took:\",(time.time()-start)*1000)"
   ]
  },
  {
   "cell_type": "code",
   "execution_count": 40,
   "id": "ea6b273a",
   "metadata": {},
   "outputs": [
    {
     "name": "stdout",
     "output_type": "stream",
     "text": [
      "ndarray took: 0.0\n"
     ]
    }
   ],
   "source": [
    "start = time.time()\n",
    "result = a1 + a2\n",
    "print(\"ndarray took:\",(time.time()-start)*1000)"
   ]
  },
  {
   "cell_type": "code",
   "execution_count": null,
   "id": "c8926860",
   "metadata": {},
   "outputs": [],
   "source": [
    "''' imread : Used to read an image.\n",
    "After using imread, type of image becomes ndarray.\n",
    "Image is converted to numerical format.\n",
    "Numpy contains a few attributes (no parantheses) and functions (with parantheses).\n",
    "shape: Returns number of rows and columns.\n",
    "ndim: Returns dimension of the array. Images have 3 dimensions (no. fo rows, no. of columns, RGB)'''"
   ]
  },
  {
   "cell_type": "code",
   "execution_count": 42,
   "id": "88f05bbf",
   "metadata": {},
   "outputs": [],
   "source": [
    "# Creating and printing an array in NumPy"
   ]
  },
  {
   "cell_type": "code",
   "execution_count": 43,
   "id": "a177c17b",
   "metadata": {},
   "outputs": [],
   "source": [
    "import numpy as np"
   ]
  },
  {
   "cell_type": "code",
   "execution_count": 46,
   "id": "52ef31be",
   "metadata": {},
   "outputs": [
    {
     "data": {
      "text/plain": [
       "list"
      ]
     },
     "execution_count": 46,
     "metadata": {},
     "output_type": "execute_result"
    }
   ],
   "source": [
    "l1 = [1,2,3,4,5]\n",
    "type(l1)"
   ]
  },
  {
   "cell_type": "code",
   "execution_count": 47,
   "id": "f34d8366",
   "metadata": {},
   "outputs": [
    {
     "name": "stdout",
     "output_type": "stream",
     "text": [
      "<class 'list'>\n"
     ]
    }
   ],
   "source": [
    "print(type(l1))"
   ]
  },
  {
   "cell_type": "code",
   "execution_count": 48,
   "id": "7e15e0d6",
   "metadata": {},
   "outputs": [],
   "source": [
    "a = np.asarray(l1)  # Execution starts from right to left."
   ]
  },
  {
   "cell_type": "code",
   "execution_count": 49,
   "id": "1f2cb20c",
   "metadata": {},
   "outputs": [
    {
     "data": {
      "text/plain": [
       "array([1, 2, 3, 4, 5])"
      ]
     },
     "execution_count": 49,
     "metadata": {},
     "output_type": "execute_result"
    }
   ],
   "source": [
    "a"
   ]
  },
  {
   "cell_type": "code",
   "execution_count": 50,
   "id": "aeae1cb1",
   "metadata": {},
   "outputs": [
    {
     "data": {
      "text/plain": [
       "numpy.ndarray"
      ]
     },
     "execution_count": 50,
     "metadata": {},
     "output_type": "execute_result"
    }
   ],
   "source": [
    "type(a)"
   ]
  },
  {
   "cell_type": "code",
   "execution_count": 63,
   "id": "be164c3a",
   "metadata": {},
   "outputs": [],
   "source": [
    "a1 = np.array([10,20,30,40,50])"
   ]
  },
  {
   "cell_type": "code",
   "execution_count": 64,
   "id": "26e995e7",
   "metadata": {},
   "outputs": [
    {
     "data": {
      "text/plain": [
       "array([10, 20, 30, 40, 50])"
      ]
     },
     "execution_count": 64,
     "metadata": {},
     "output_type": "execute_result"
    }
   ],
   "source": [
    "a1"
   ]
  },
  {
   "cell_type": "code",
   "execution_count": 58,
   "id": "9b1ff3e9",
   "metadata": {},
   "outputs": [
    {
     "data": {
      "text/plain": [
       "1"
      ]
     },
     "execution_count": 58,
     "metadata": {},
     "output_type": "execute_result"
    }
   ],
   "source": [
    "a1.ndim"
   ]
  },
  {
   "cell_type": "code",
   "execution_count": 59,
   "id": "21ec78d3",
   "metadata": {},
   "outputs": [
    {
     "data": {
      "text/plain": [
       "(5,)"
      ]
     },
     "execution_count": 59,
     "metadata": {},
     "output_type": "execute_result"
    }
   ],
   "source": [
    "a1.shape"
   ]
  },
  {
   "cell_type": "code",
   "execution_count": 65,
   "id": "2eae7fbf",
   "metadata": {},
   "outputs": [
    {
     "data": {
      "text/plain": [
       "4"
      ]
     },
     "execution_count": 65,
     "metadata": {},
     "output_type": "execute_result"
    }
   ],
   "source": [
    "a1.itemsize  # Returns size of variable"
   ]
  },
  {
   "cell_type": "code",
   "execution_count": 66,
   "id": "4b21a37b",
   "metadata": {},
   "outputs": [
    {
     "data": {
      "text/plain": [
       "dtype('int32')"
      ]
     },
     "execution_count": 66,
     "metadata": {},
     "output_type": "execute_result"
    }
   ],
   "source": [
    "a1.dtype "
   ]
  },
  {
   "cell_type": "code",
   "execution_count": 68,
   "id": "d30ae5a5",
   "metadata": {},
   "outputs": [],
   "source": [
    "a2 = np.array([1,2,3,4,5,6], dtype = np.float64)"
   ]
  },
  {
   "cell_type": "code",
   "execution_count": 69,
   "id": "d439d249",
   "metadata": {},
   "outputs": [
    {
     "data": {
      "text/plain": [
       "array([1., 2., 3., 4., 5., 6.])"
      ]
     },
     "execution_count": 69,
     "metadata": {},
     "output_type": "execute_result"
    }
   ],
   "source": [
    "a2"
   ]
  },
  {
   "cell_type": "code",
   "execution_count": 70,
   "id": "4c3ebe70",
   "metadata": {},
   "outputs": [],
   "source": [
    "# To view detalis of the parameters, use Shift + Tab"
   ]
  },
  {
   "cell_type": "code",
   "execution_count": 72,
   "id": "0f2dbcd3",
   "metadata": {},
   "outputs": [
    {
     "name": "stdout",
     "output_type": "stream",
     "text": [
      "int32\n",
      "int32\n"
     ]
    }
   ],
   "source": [
    "# The type of an array can be coverted using astype\n",
    "arr = np.array([1,2,3,4,5])\n",
    "print(arr.dtype)\n",
    "float_arr = arr.astype(np.float64)\n",
    "print(arr.dtype)"
   ]
  },
  {
   "cell_type": "code",
   "execution_count": 71,
   "id": "d2b07c90",
   "metadata": {},
   "outputs": [
    {
     "data": {
      "text/plain": [
       "array([[0., 0., 0.],\n",
       "       [0., 0., 0.],\n",
       "       [0., 0., 0.]])"
      ]
     },
     "execution_count": 71,
     "metadata": {},
     "output_type": "execute_result"
    }
   ],
   "source": [
    "np.zeros((3,3))"
   ]
  },
  {
   "cell_type": "code",
   "execution_count": 73,
   "id": "e06474e8",
   "metadata": {},
   "outputs": [
    {
     "data": {
      "text/plain": [
       "array([[1., 1., 1., 1., 1.],\n",
       "       [1., 1., 1., 1., 1.],\n",
       "       [1., 1., 1., 1., 1.],\n",
       "       [1., 1., 1., 1., 1.]])"
      ]
     },
     "execution_count": 73,
     "metadata": {},
     "output_type": "execute_result"
    }
   ],
   "source": [
    "np.ones((4,5))"
   ]
  },
  {
   "cell_type": "code",
   "execution_count": 75,
   "id": "5d8a44ab",
   "metadata": {},
   "outputs": [
    {
     "data": {
      "text/plain": [
       "array([[0.71500902, 0.90946997, 0.19749599, 0.83350681],\n",
       "       [0.20312124, 0.31216824, 0.04606872, 0.0463258 ],\n",
       "       [0.05508279, 0.77774215, 0.39876891, 0.19537503]])"
      ]
     },
     "execution_count": 75,
     "metadata": {},
     "output_type": "execute_result"
    }
   ],
   "source": [
    "# Generating Random numbers\n",
    "np.random.random((3,4))"
   ]
  },
  {
   "cell_type": "code",
   "execution_count": 80,
   "id": "2029acf9",
   "metadata": {},
   "outputs": [
    {
     "data": {
      "text/plain": [
       "8"
      ]
     },
     "execution_count": 80,
     "metadata": {},
     "output_type": "execute_result"
    }
   ],
   "source": [
    "np.random.randint(1,10)"
   ]
  },
  {
   "cell_type": "code",
   "execution_count": 83,
   "id": "0f064dc2",
   "metadata": {},
   "outputs": [
    {
     "data": {
      "text/plain": [
       "array([[2, 4, 2, 4, 4],\n",
       "       [2, 3, 4, 2, 2]])"
      ]
     },
     "execution_count": 83,
     "metadata": {},
     "output_type": "execute_result"
    }
   ],
   "source": [
    "np.random.randint(low = 2,high = 5,size = (2,5))"
   ]
  },
  {
   "cell_type": "code",
   "execution_count": 85,
   "id": "dcf67743",
   "metadata": {},
   "outputs": [
    {
     "data": {
      "text/plain": [
       "array([[ 0.29021308,  0.84516926, -1.76521774],\n",
       "       [ 0.58319767,  0.23938426,  2.11996735],\n",
       "       [-1.51688761,  0.81549067,  0.44839084]])"
      ]
     },
     "execution_count": 85,
     "metadata": {},
     "output_type": "execute_result"
    }
   ],
   "source": [
    "np.random.randn(3,3)"
   ]
  },
  {
   "cell_type": "code",
   "execution_count": 94,
   "id": "26216262",
   "metadata": {},
   "outputs": [
    {
     "data": {
      "text/plain": [
       "'d'"
      ]
     },
     "execution_count": 94,
     "metadata": {},
     "output_type": "execute_result"
    }
   ],
   "source": [
    "c = np.random.choice(('a','b','c','d','e'))\n",
    "c"
   ]
  },
  {
   "cell_type": "code",
   "execution_count": 95,
   "id": "8bd75b2e",
   "metadata": {},
   "outputs": [
    {
     "data": {
      "text/plain": [
       "array([ 4,  6,  8, 10, 12, 14, 16, 18, 20, 22, 24])"
      ]
     },
     "execution_count": 95,
     "metadata": {},
     "output_type": "execute_result"
    }
   ],
   "source": [
    "np.arange(4,25,2)"
   ]
  },
  {
   "cell_type": "code",
   "execution_count": 104,
   "id": "e5a14f9a",
   "metadata": {},
   "outputs": [],
   "source": [
    "a3 = np.linspace(1,2,200)"
   ]
  },
  {
   "cell_type": "code",
   "execution_count": 105,
   "id": "b4fc40b0",
   "metadata": {},
   "outputs": [
    {
     "data": {
      "text/plain": [
       "array([1.        , 1.00502513, 1.01005025, 1.01507538, 1.0201005 ,\n",
       "       1.02512563, 1.03015075, 1.03517588, 1.04020101, 1.04522613,\n",
       "       1.05025126, 1.05527638, 1.06030151, 1.06532663, 1.07035176,\n",
       "       1.07537688, 1.08040201, 1.08542714, 1.09045226, 1.09547739,\n",
       "       1.10050251, 1.10552764, 1.11055276, 1.11557789, 1.12060302,\n",
       "       1.12562814, 1.13065327, 1.13567839, 1.14070352, 1.14572864,\n",
       "       1.15075377, 1.15577889, 1.16080402, 1.16582915, 1.17085427,\n",
       "       1.1758794 , 1.18090452, 1.18592965, 1.19095477, 1.1959799 ,\n",
       "       1.20100503, 1.20603015, 1.21105528, 1.2160804 , 1.22110553,\n",
       "       1.22613065, 1.23115578, 1.2361809 , 1.24120603, 1.24623116,\n",
       "       1.25125628, 1.25628141, 1.26130653, 1.26633166, 1.27135678,\n",
       "       1.27638191, 1.28140704, 1.28643216, 1.29145729, 1.29648241,\n",
       "       1.30150754, 1.30653266, 1.31155779, 1.31658291, 1.32160804,\n",
       "       1.32663317, 1.33165829, 1.33668342, 1.34170854, 1.34673367,\n",
       "       1.35175879, 1.35678392, 1.36180905, 1.36683417, 1.3718593 ,\n",
       "       1.37688442, 1.38190955, 1.38693467, 1.3919598 , 1.39698492,\n",
       "       1.40201005, 1.40703518, 1.4120603 , 1.41708543, 1.42211055,\n",
       "       1.42713568, 1.4321608 , 1.43718593, 1.44221106, 1.44723618,\n",
       "       1.45226131, 1.45728643, 1.46231156, 1.46733668, 1.47236181,\n",
       "       1.47738693, 1.48241206, 1.48743719, 1.49246231, 1.49748744,\n",
       "       1.50251256, 1.50753769, 1.51256281, 1.51758794, 1.52261307,\n",
       "       1.52763819, 1.53266332, 1.53768844, 1.54271357, 1.54773869,\n",
       "       1.55276382, 1.55778894, 1.56281407, 1.5678392 , 1.57286432,\n",
       "       1.57788945, 1.58291457, 1.5879397 , 1.59296482, 1.59798995,\n",
       "       1.60301508, 1.6080402 , 1.61306533, 1.61809045, 1.62311558,\n",
       "       1.6281407 , 1.63316583, 1.63819095, 1.64321608, 1.64824121,\n",
       "       1.65326633, 1.65829146, 1.66331658, 1.66834171, 1.67336683,\n",
       "       1.67839196, 1.68341709, 1.68844221, 1.69346734, 1.69849246,\n",
       "       1.70351759, 1.70854271, 1.71356784, 1.71859296, 1.72361809,\n",
       "       1.72864322, 1.73366834, 1.73869347, 1.74371859, 1.74874372,\n",
       "       1.75376884, 1.75879397, 1.7638191 , 1.76884422, 1.77386935,\n",
       "       1.77889447, 1.7839196 , 1.78894472, 1.79396985, 1.79899497,\n",
       "       1.8040201 , 1.80904523, 1.81407035, 1.81909548, 1.8241206 ,\n",
       "       1.82914573, 1.83417085, 1.83919598, 1.84422111, 1.84924623,\n",
       "       1.85427136, 1.85929648, 1.86432161, 1.86934673, 1.87437186,\n",
       "       1.87939698, 1.88442211, 1.88944724, 1.89447236, 1.89949749,\n",
       "       1.90452261, 1.90954774, 1.91457286, 1.91959799, 1.92462312,\n",
       "       1.92964824, 1.93467337, 1.93969849, 1.94472362, 1.94974874,\n",
       "       1.95477387, 1.95979899, 1.96482412, 1.96984925, 1.97487437,\n",
       "       1.9798995 , 1.98492462, 1.98994975, 1.99497487, 2.        ])"
      ]
     },
     "execution_count": 105,
     "metadata": {},
     "output_type": "execute_result"
    }
   ],
   "source": [
    "a3"
   ]
  },
  {
   "cell_type": "code",
   "execution_count": 111,
   "id": "341a41bb",
   "metadata": {},
   "outputs": [
    {
     "data": {
      "text/plain": [
       "array([0, 1, 2, 3, 4, 5, 6, 7])"
      ]
     },
     "execution_count": 111,
     "metadata": {},
     "output_type": "execute_result"
    }
   ],
   "source": [
    "# Changing Shape\n",
    "a = np.arange(8)\n",
    "a"
   ]
  },
  {
   "cell_type": "code",
   "execution_count": 115,
   "id": "53d0569d",
   "metadata": {},
   "outputs": [
    {
     "data": {
      "text/plain": [
       "array([[0, 1],\n",
       "       [2, 3],\n",
       "       [4, 5],\n",
       "       [6, 7]])"
      ]
     },
     "execution_count": 115,
     "metadata": {},
     "output_type": "execute_result"
    }
   ],
   "source": [
    "a1 = a.reshape(4,2)\n",
    "a1"
   ]
  },
  {
   "cell_type": "code",
   "execution_count": 116,
   "id": "5a4d86bb",
   "metadata": {},
   "outputs": [
    {
     "data": {
      "text/plain": [
       "array([0, 1, 2, 3, 4, 5, 6, 7])"
      ]
     },
     "execution_count": 116,
     "metadata": {},
     "output_type": "execute_result"
    }
   ],
   "source": [
    "a2 = a.ravel()  # To flatten the array\n",
    "a2"
   ]
  },
  {
   "cell_type": "code",
   "execution_count": null,
   "id": "c5ab3600",
   "metadata": {},
   "outputs": [],
   "source": [
    "# Mathematical and Statistical Functions"
   ]
  },
  {
   "cell_type": "code",
   "execution_count": 119,
   "id": "216f8dee",
   "metadata": {},
   "outputs": [
    {
     "data": {
      "text/plain": [
       "array([[ 0,  1,  2],\n",
       "       [ 3,  4,  5],\n",
       "       [ 6,  7,  8],\n",
       "       [ 9, 10, 11]])"
      ]
     },
     "execution_count": 119,
     "metadata": {},
     "output_type": "execute_result"
    }
   ],
   "source": [
    "a = np.arange(12).reshape((4,3))\n",
    "a"
   ]
  },
  {
   "cell_type": "code",
   "execution_count": 120,
   "id": "8c731093",
   "metadata": {},
   "outputs": [
    {
     "data": {
      "text/plain": [
       "0"
      ]
     },
     "execution_count": 120,
     "metadata": {},
     "output_type": "execute_result"
    }
   ],
   "source": [
    "a.min()"
   ]
  },
  {
   "cell_type": "code",
   "execution_count": 121,
   "id": "deee1c67",
   "metadata": {},
   "outputs": [
    {
     "data": {
      "text/plain": [
       "11"
      ]
     },
     "execution_count": 121,
     "metadata": {},
     "output_type": "execute_result"
    }
   ],
   "source": [
    "a.max()"
   ]
  },
  {
   "cell_type": "code",
   "execution_count": 122,
   "id": "226729cd",
   "metadata": {},
   "outputs": [
    {
     "data": {
      "text/plain": [
       "5.5"
      ]
     },
     "execution_count": 122,
     "metadata": {},
     "output_type": "execute_result"
    }
   ],
   "source": [
    "a.mean()"
   ]
  },
  {
   "cell_type": "code",
   "execution_count": 130,
   "id": "d1544d68",
   "metadata": {},
   "outputs": [
    {
     "data": {
      "text/plain": [
       "array([4.5, 5.5, 6.5])"
      ]
     },
     "execution_count": 130,
     "metadata": {},
     "output_type": "execute_result"
    }
   ],
   "source": [
    "a.mean(axis = 0)"
   ]
  },
  {
   "cell_type": "code",
   "execution_count": 131,
   "id": "005cafb2",
   "metadata": {},
   "outputs": [
    {
     "data": {
      "text/plain": [
       "array([ 1.,  4.,  7., 10.])"
      ]
     },
     "execution_count": 131,
     "metadata": {},
     "output_type": "execute_result"
    }
   ],
   "source": [
    "a.mean(axis = 1)"
   ]
  },
  {
   "cell_type": "code",
   "execution_count": 132,
   "id": "d7c6c32e",
   "metadata": {},
   "outputs": [
    {
     "data": {
      "text/plain": [
       "5.5"
      ]
     },
     "execution_count": 132,
     "metadata": {},
     "output_type": "execute_result"
    }
   ],
   "source": [
    "np.median(a)"
   ]
  },
  {
   "cell_type": "code",
   "execution_count": 126,
   "id": "68c49175",
   "metadata": {},
   "outputs": [
    {
     "data": {
      "text/plain": [
       "66"
      ]
     },
     "execution_count": 126,
     "metadata": {},
     "output_type": "execute_result"
    }
   ],
   "source": [
    "a.sum()"
   ]
  },
  {
   "cell_type": "code",
   "execution_count": 127,
   "id": "805d8fa1",
   "metadata": {},
   "outputs": [
    {
     "data": {
      "text/plain": [
       "array([18, 22, 26])"
      ]
     },
     "execution_count": 127,
     "metadata": {},
     "output_type": "execute_result"
    }
   ],
   "source": [
    "a.sum(axis = 0)  # Column-wise"
   ]
  },
  {
   "cell_type": "code",
   "execution_count": 128,
   "id": "2a9b5157",
   "metadata": {},
   "outputs": [
    {
     "data": {
      "text/plain": [
       "array([ 3, 12, 21, 30])"
      ]
     },
     "execution_count": 128,
     "metadata": {},
     "output_type": "execute_result"
    }
   ],
   "source": [
    "a.sum(axis = 1)  # Row-wise"
   ]
  },
  {
   "cell_type": "code",
   "execution_count": 129,
   "id": "3048fba5",
   "metadata": {},
   "outputs": [
    {
     "data": {
      "text/plain": [
       "array([[0.        , 1.        , 1.41421356],\n",
       "       [1.73205081, 2.        , 2.23606798],\n",
       "       [2.44948974, 2.64575131, 2.82842712],\n",
       "       [3.        , 3.16227766, 3.31662479]])"
      ]
     },
     "execution_count": 129,
     "metadata": {},
     "output_type": "execute_result"
    }
   ],
   "source": [
    "np.sqrt(a)"
   ]
  },
  {
   "cell_type": "code",
   "execution_count": 133,
   "id": "9b196468",
   "metadata": {},
   "outputs": [
    {
     "name": "stdout",
     "output_type": "stream",
     "text": [
      "[1 2 3 4 5]\n"
     ]
    }
   ],
   "source": [
    "array = np.array([1,2,3,4,4,5])\n",
    "counts = np.unique(array)\n",
    "print(counts)"
   ]
  },
  {
   "cell_type": "code",
   "execution_count": 136,
   "id": "597f6150",
   "metadata": {},
   "outputs": [
    {
     "name": "stdout",
     "output_type": "stream",
     "text": [
      "5\n",
      "4\n"
     ]
    }
   ],
   "source": [
    "a = np.array([1,2,3,4,5])\n",
    "print(max(a))\n",
    "print(np.argmax(a))  # Returns the index value of the highest value in the array"
   ]
  },
  {
   "cell_type": "code",
   "execution_count": 137,
   "id": "c2efb1e0",
   "metadata": {},
   "outputs": [],
   "source": [
    "arr = np.array([0,1,2,3,4,5,6])"
   ]
  },
  {
   "cell_type": "code",
   "execution_count": 138,
   "id": "9a80bd17",
   "metadata": {},
   "outputs": [
    {
     "data": {
      "text/plain": [
       "array([ 0,  1,  3,  6, 10, 15, 21], dtype=int32)"
      ]
     },
     "execution_count": 138,
     "metadata": {},
     "output_type": "execute_result"
    }
   ],
   "source": [
    "arr.cumsum()  # Cumulative sum"
   ]
  },
  {
   "cell_type": "code",
   "execution_count": 142,
   "id": "a6b0553e",
   "metadata": {},
   "outputs": [
    {
     "data": {
      "text/plain": [
       "array([[ 0,  1,  2],\n",
       "       [ 3,  5,  7],\n",
       "       [ 9, 12, 15]], dtype=int32)"
      ]
     },
     "execution_count": 142,
     "metadata": {},
     "output_type": "execute_result"
    }
   ],
   "source": [
    "arr = np.array([[0,1,2],[3,4,5],[6,7,8]])\n",
    "arr.cumsum(axis = 0)"
   ]
  },
  {
   "cell_type": "code",
   "execution_count": 143,
   "id": "b3355a01",
   "metadata": {},
   "outputs": [
    {
     "data": {
      "text/plain": [
       "array([[ 0,  1,  3],\n",
       "       [ 3,  7, 12],\n",
       "       [ 6, 13, 21]], dtype=int32)"
      ]
     },
     "execution_count": 143,
     "metadata": {},
     "output_type": "execute_result"
    }
   ],
   "source": [
    "arr.cumsum(axis = 1)"
   ]
  },
  {
   "cell_type": "code",
   "execution_count": 145,
   "id": "84d45b3e",
   "metadata": {},
   "outputs": [
    {
     "data": {
      "text/plain": [
       "2.0"
      ]
     },
     "execution_count": 145,
     "metadata": {},
     "output_type": "execute_result"
    }
   ],
   "source": [
    "a.var()  # Variance"
   ]
  },
  {
   "cell_type": "code",
   "execution_count": 146,
   "id": "bdb263b4",
   "metadata": {},
   "outputs": [
    {
     "data": {
      "text/plain": [
       "1.4142135623730951"
      ]
     },
     "execution_count": 146,
     "metadata": {},
     "output_type": "execute_result"
    }
   ],
   "source": [
    "a.std()  # Standard Deviation"
   ]
  },
  {
   "cell_type": "code",
   "execution_count": 147,
   "id": "5d6c1f06",
   "metadata": {},
   "outputs": [],
   "source": [
    "# Basic Arithmetic Functions"
   ]
  },
  {
   "cell_type": "code",
   "execution_count": 149,
   "id": "81fd933a",
   "metadata": {},
   "outputs": [
    {
     "data": {
      "text/plain": [
       "array([ 7,  9, 11, 13, 15])"
      ]
     },
     "execution_count": 149,
     "metadata": {},
     "output_type": "execute_result"
    }
   ],
   "source": [
    "a = np.array([1,2,3,4,5])\n",
    "b = np.array([6,7,8,9,10])\n",
    "a + b"
   ]
  },
  {
   "cell_type": "code",
   "execution_count": 150,
   "id": "4cf65d7f",
   "metadata": {},
   "outputs": [
    {
     "data": {
      "text/plain": [
       "array([-5, -5, -5, -5, -5])"
      ]
     },
     "execution_count": 150,
     "metadata": {},
     "output_type": "execute_result"
    }
   ],
   "source": [
    "a - b"
   ]
  },
  {
   "cell_type": "code",
   "execution_count": 151,
   "id": "281467f3",
   "metadata": {},
   "outputs": [
    {
     "data": {
      "text/plain": [
       "array([ 6, 14, 24, 36, 50])"
      ]
     },
     "execution_count": 151,
     "metadata": {},
     "output_type": "execute_result"
    }
   ],
   "source": [
    "a * b"
   ]
  },
  {
   "cell_type": "code",
   "execution_count": 152,
   "id": "27252b52",
   "metadata": {},
   "outputs": [
    {
     "data": {
      "text/plain": [
       "array([0.16666667, 0.28571429, 0.375     , 0.44444444, 0.5       ])"
      ]
     },
     "execution_count": 152,
     "metadata": {},
     "output_type": "execute_result"
    }
   ],
   "source": [
    "a / b"
   ]
  },
  {
   "cell_type": "code",
   "execution_count": 153,
   "id": "c604d870",
   "metadata": {},
   "outputs": [
    {
     "data": {
      "text/plain": [
       "array([0, 0, 0, 0, 0], dtype=int32)"
      ]
     },
     "execution_count": 153,
     "metadata": {},
     "output_type": "execute_result"
    }
   ],
   "source": [
    "a // b"
   ]
  },
  {
   "cell_type": "code",
   "execution_count": 154,
   "id": "71096858",
   "metadata": {},
   "outputs": [
    {
     "data": {
      "text/plain": [
       "array([ True,  True,  True,  True,  True])"
      ]
     },
     "execution_count": 154,
     "metadata": {},
     "output_type": "execute_result"
    }
   ],
   "source": [
    "b > a"
   ]
  },
  {
   "cell_type": "code",
   "execution_count": 155,
   "id": "041d9835",
   "metadata": {},
   "outputs": [
    {
     "data": {
      "text/plain": [
       "array([False, False, False, False, False])"
      ]
     },
     "execution_count": 155,
     "metadata": {},
     "output_type": "execute_result"
    }
   ],
   "source": [
    "a > b"
   ]
  },
  {
   "cell_type": "code",
   "execution_count": 158,
   "id": "ddb25642",
   "metadata": {},
   "outputs": [
    {
     "data": {
      "text/plain": [
       "array([ 1,  2,  3,  4,  5,  6,  7,  8,  9, 10])"
      ]
     },
     "execution_count": 158,
     "metadata": {},
     "output_type": "execute_result"
    }
   ],
   "source": [
    "arr = np.concatenate((a,b))\n",
    "arr"
   ]
  },
  {
   "cell_type": "code",
   "execution_count": 161,
   "id": "d2be32bc",
   "metadata": {},
   "outputs": [
    {
     "data": {
      "text/plain": [
       "[array([1, 2, 3]), array([4, 5, 6]), array([7, 8]), array([ 9, 10])]"
      ]
     },
     "execution_count": 161,
     "metadata": {},
     "output_type": "execute_result"
    }
   ],
   "source": [
    "newarr = np.array_split(arr,4)  # To split an array.\n",
    "newarr"
   ]
  },
  {
   "cell_type": "code",
   "execution_count": 167,
   "id": "250f9337",
   "metadata": {},
   "outputs": [
    {
     "name": "stdout",
     "output_type": "stream",
     "text": [
      "(array([3], dtype=int64),)\n"
     ]
    }
   ],
   "source": [
    "# Searching\n",
    "arr = np.array([1,2,3,4,5,6])\n",
    "x = np.where(arr == 4)\n",
    "print(x)"
   ]
  },
  {
   "cell_type": "code",
   "execution_count": 164,
   "id": "6a0994b6",
   "metadata": {},
   "outputs": [],
   "source": [
    "# Sorting"
   ]
  },
  {
   "cell_type": "code",
   "execution_count": 165,
   "id": "e305f632",
   "metadata": {},
   "outputs": [],
   "source": [
    "# Indexing and Slicing "
   ]
  },
  {
   "cell_type": "code",
   "execution_count": 166,
   "id": "4a3cca24",
   "metadata": {},
   "outputs": [
    {
     "data": {
      "text/plain": [
       "3"
      ]
     },
     "execution_count": 166,
     "metadata": {},
     "output_type": "execute_result"
    }
   ],
   "source": [
    "l1 = [1,2,3]\n",
    "l1[2]"
   ]
  },
  {
   "cell_type": "code",
   "execution_count": 168,
   "id": "9cd7dec7",
   "metadata": {},
   "outputs": [
    {
     "data": {
      "text/plain": [
       "[1, 2]"
      ]
     },
     "execution_count": 168,
     "metadata": {},
     "output_type": "execute_result"
    }
   ],
   "source": [
    "l1[0:2]"
   ]
  },
  {
   "cell_type": "code",
   "execution_count": 170,
   "id": "d74285ab",
   "metadata": {},
   "outputs": [
    {
     "data": {
      "text/plain": [
       "array([[1, 2, 3],\n",
       "       [4, 5, 6],\n",
       "       [7, 8, 9]])"
      ]
     },
     "execution_count": 170,
     "metadata": {},
     "output_type": "execute_result"
    }
   ],
   "source": [
    "a = np.array([[1,2,3],[4,5,6],[7,8,9]])\n",
    "a"
   ]
  },
  {
   "cell_type": "code",
   "execution_count": 171,
   "id": "ba4c7776",
   "metadata": {},
   "outputs": [
    {
     "data": {
      "text/plain": [
       "6"
      ]
     },
     "execution_count": 171,
     "metadata": {},
     "output_type": "execute_result"
    }
   ],
   "source": [
    "a[1,2] # Row 1, Column 2"
   ]
  },
  {
   "cell_type": "code",
   "execution_count": 172,
   "id": "d612bcdd",
   "metadata": {},
   "outputs": [
    {
     "data": {
      "text/plain": [
       "array([4, 5])"
      ]
     },
     "execution_count": 172,
     "metadata": {},
     "output_type": "execute_result"
    }
   ],
   "source": [
    "a[1, 0:2] # Row 1, Column Index 0 to 1"
   ]
  },
  {
   "cell_type": "code",
   "execution_count": 174,
   "id": "c218c83f",
   "metadata": {},
   "outputs": [
    {
     "data": {
      "text/plain": [
       "array([[2, 3],\n",
       "       [5, 6]])"
      ]
     },
     "execution_count": 174,
     "metadata": {},
     "output_type": "execute_result"
    }
   ],
   "source": [
    "a[0:2,1:3] # Row 0 to 1, Column 1 to 2"
   ]
  },
  {
   "cell_type": "code",
   "execution_count": 176,
   "id": "08ec6498",
   "metadata": {},
   "outputs": [],
   "source": [
    "# Stacking: Stack and Queue"
   ]
  },
  {
   "cell_type": "code",
   "execution_count": 177,
   "id": "809f6f45",
   "metadata": {},
   "outputs": [],
   "source": [
    "# Splitting"
   ]
  },
  {
   "cell_type": "code",
   "execution_count": 178,
   "id": "22c5e6bc",
   "metadata": {},
   "outputs": [],
   "source": [
    "# Transpose"
   ]
  },
  {
   "cell_type": "code",
   "execution_count": 179,
   "id": "8aed4eff",
   "metadata": {},
   "outputs": [],
   "source": [
    "# Indexing using Boolean arrays"
   ]
  },
  {
   "cell_type": "markdown",
   "id": "046ef459",
   "metadata": {},
   "source": [
    "# Pandas"
   ]
  },
  {
   "cell_type": "code",
   "execution_count": null,
   "id": "912cee47",
   "metadata": {},
   "outputs": [],
   "source": [
    "# Series: One dimensional array. It can store data of any type."
   ]
  },
  {
   "cell_type": "code",
   "execution_count": 4,
   "id": "5b476915",
   "metadata": {},
   "outputs": [],
   "source": [
    "import pandas as pd\n",
    "import numpy as np"
   ]
  },
  {
   "cell_type": "code",
   "execution_count": 2,
   "id": "0e14fa78",
   "metadata": {},
   "outputs": [],
   "source": [
    "l1 = [1,2,3,4,5,6,7,8,9,10]\n",
    "series1 = pd.Series(l1)"
   ]
  },
  {
   "cell_type": "code",
   "execution_count": 3,
   "id": "82cb0ed6",
   "metadata": {},
   "outputs": [
    {
     "data": {
      "text/plain": [
       "[1, 2, 3, 4, 5, 6, 7, 8, 9, 10]"
      ]
     },
     "execution_count": 3,
     "metadata": {},
     "output_type": "execute_result"
    }
   ],
   "source": [
    "l1"
   ]
  },
  {
   "cell_type": "code",
   "execution_count": 4,
   "id": "3132c9e5",
   "metadata": {},
   "outputs": [
    {
     "data": {
      "text/plain": [
       "0     1\n",
       "1     2\n",
       "2     3\n",
       "3     4\n",
       "4     5\n",
       "5     6\n",
       "6     7\n",
       "7     8\n",
       "8     9\n",
       "9    10\n",
       "dtype: int64"
      ]
     },
     "execution_count": 4,
     "metadata": {},
     "output_type": "execute_result"
    }
   ],
   "source": [
    "series1"
   ]
  },
  {
   "cell_type": "code",
   "execution_count": 5,
   "id": "55757a87",
   "metadata": {},
   "outputs": [],
   "source": [
    "series1 = pd.Series(['abc','def','ghi'])"
   ]
  },
  {
   "cell_type": "code",
   "execution_count": 6,
   "id": "187ca9fb",
   "metadata": {},
   "outputs": [
    {
     "data": {
      "text/plain": [
       "0    abc\n",
       "1    def\n",
       "2    ghi\n",
       "dtype: object"
      ]
     },
     "execution_count": 6,
     "metadata": {},
     "output_type": "execute_result"
    }
   ],
   "source": [
    "series1"
   ]
  },
  {
   "cell_type": "code",
   "execution_count": 8,
   "id": "b87f8ed7",
   "metadata": {},
   "outputs": [],
   "source": [
    "series1 = pd.Series([\"Arun\",35,77.5,'v'])"
   ]
  },
  {
   "cell_type": "code",
   "execution_count": 9,
   "id": "dfb86d80",
   "metadata": {},
   "outputs": [
    {
     "data": {
      "text/plain": [
       "0    Arun\n",
       "1      35\n",
       "2    77.5\n",
       "3       v\n",
       "dtype: object"
      ]
     },
     "execution_count": 9,
     "metadata": {},
     "output_type": "execute_result"
    }
   ],
   "source": [
    "series1"
   ]
  },
  {
   "cell_type": "code",
   "execution_count": 22,
   "id": "eca208aa",
   "metadata": {},
   "outputs": [],
   "source": [
    "fruits = np.array([\"apple\",\"banana\",\"cherry\"])"
   ]
  },
  {
   "cell_type": "code",
   "execution_count": 23,
   "id": "9fc9fcd5",
   "metadata": {},
   "outputs": [
    {
     "data": {
      "text/plain": [
       "array(['apple', 'banana', 'cherry'], dtype='<U6')"
      ]
     },
     "execution_count": 23,
     "metadata": {},
     "output_type": "execute_result"
    }
   ],
   "source": [
    "fruits"
   ]
  },
  {
   "cell_type": "code",
   "execution_count": 24,
   "id": "9687b82e",
   "metadata": {},
   "outputs": [],
   "source": [
    "series2 = pd.Series(fruits, index=['A','B','C'])"
   ]
  },
  {
   "cell_type": "code",
   "execution_count": 25,
   "id": "decab88c",
   "metadata": {},
   "outputs": [
    {
     "data": {
      "text/plain": [
       "A     apple\n",
       "B    banana\n",
       "C    cherry\n",
       "dtype: object"
      ]
     },
     "execution_count": 25,
     "metadata": {},
     "output_type": "execute_result"
    }
   ],
   "source": [
    "series2"
   ]
  },
  {
   "cell_type": "code",
   "execution_count": 38,
   "id": "193c1845",
   "metadata": {},
   "outputs": [
    {
     "data": {
      "text/plain": [
       "['Trivandrum', 'Kochi', 'Kottayam']"
      ]
     },
     "execution_count": 38,
     "metadata": {},
     "output_type": "execute_result"
    }
   ],
   "source": [
    "cities = {\"Trivandrum\": 2500, \"Kochi\": 500, \"Kottayam\": 1000}\n",
    "v = cities.keys()\n",
    "list(v)"
   ]
  },
  {
   "cell_type": "code",
   "execution_count": 30,
   "id": "58f5323c",
   "metadata": {},
   "outputs": [
    {
     "data": {
      "text/plain": [
       "Trivandrum    2500\n",
       "Kochi          500\n",
       "Kottayam      1000\n",
       "dtype: int64"
      ]
     },
     "execution_count": 30,
     "metadata": {},
     "output_type": "execute_result"
    }
   ],
   "source": [
    "series3 = pd.Series(cities)\n",
    "series3"
   ]
  },
  {
   "cell_type": "code",
   "execution_count": 31,
   "id": "117173dd",
   "metadata": {},
   "outputs": [
    {
     "data": {
      "text/plain": [
       "2500"
      ]
     },
     "execution_count": 31,
     "metadata": {},
     "output_type": "execute_result"
    }
   ],
   "source": [
    "series3.max()"
   ]
  },
  {
   "cell_type": "code",
   "execution_count": 39,
   "id": "886a8c3c",
   "metadata": {},
   "outputs": [],
   "source": [
    "df = pd.DataFrame(v)"
   ]
  },
  {
   "cell_type": "code",
   "execution_count": 40,
   "id": "c1bbf3d2",
   "metadata": {},
   "outputs": [
    {
     "data": {
      "text/html": [
       "<div>\n",
       "<style scoped>\n",
       "    .dataframe tbody tr th:only-of-type {\n",
       "        vertical-align: middle;\n",
       "    }\n",
       "\n",
       "    .dataframe tbody tr th {\n",
       "        vertical-align: top;\n",
       "    }\n",
       "\n",
       "    .dataframe thead th {\n",
       "        text-align: right;\n",
       "    }\n",
       "</style>\n",
       "<table border=\"1\" class=\"dataframe\">\n",
       "  <thead>\n",
       "    <tr style=\"text-align: right;\">\n",
       "      <th></th>\n",
       "      <th>0</th>\n",
       "    </tr>\n",
       "  </thead>\n",
       "  <tbody>\n",
       "    <tr>\n",
       "      <th>0</th>\n",
       "      <td>Trivandrum</td>\n",
       "    </tr>\n",
       "    <tr>\n",
       "      <th>1</th>\n",
       "      <td>Kochi</td>\n",
       "    </tr>\n",
       "    <tr>\n",
       "      <th>2</th>\n",
       "      <td>Kottayam</td>\n",
       "    </tr>\n",
       "  </tbody>\n",
       "</table>\n",
       "</div>"
      ],
      "text/plain": [
       "            0\n",
       "0  Trivandrum\n",
       "1       Kochi\n",
       "2    Kottayam"
      ]
     },
     "execution_count": 40,
     "metadata": {},
     "output_type": "execute_result"
    }
   ],
   "source": [
    "df"
   ]
  },
  {
   "cell_type": "code",
   "execution_count": 5,
   "id": "d0fa6a37",
   "metadata": {},
   "outputs": [
    {
     "data": {
      "text/html": [
       "<div>\n",
       "<style scoped>\n",
       "    .dataframe tbody tr th:only-of-type {\n",
       "        vertical-align: middle;\n",
       "    }\n",
       "\n",
       "    .dataframe tbody tr th {\n",
       "        vertical-align: top;\n",
       "    }\n",
       "\n",
       "    .dataframe thead th {\n",
       "        text-align: right;\n",
       "    }\n",
       "</style>\n",
       "<table border=\"1\" class=\"dataframe\">\n",
       "  <thead>\n",
       "    <tr style=\"text-align: right;\">\n",
       "      <th></th>\n",
       "      <th>0</th>\n",
       "      <th>1</th>\n",
       "    </tr>\n",
       "  </thead>\n",
       "  <tbody>\n",
       "    <tr>\n",
       "      <th>0</th>\n",
       "      <td>Phone</td>\n",
       "      <td>2000</td>\n",
       "    </tr>\n",
       "    <tr>\n",
       "      <th>1</th>\n",
       "      <td>TV</td>\n",
       "      <td>3000</td>\n",
       "    </tr>\n",
       "    <tr>\n",
       "      <th>2</th>\n",
       "      <td>AC</td>\n",
       "      <td>1000</td>\n",
       "    </tr>\n",
       "  </tbody>\n",
       "</table>\n",
       "</div>"
      ],
      "text/plain": [
       "       0     1\n",
       "0  Phone  2000\n",
       "1     TV  3000\n",
       "2     AC  1000"
      ]
     },
     "execution_count": 5,
     "metadata": {},
     "output_type": "execute_result"
    }
   ],
   "source": [
    "items = [[\"Phone\", 2000],[\"TV\",3000],[\"AC\",1000]]\n",
    "df1 = pd.DataFrame(items)\n",
    "df1"
   ]
  },
  {
   "cell_type": "code",
   "execution_count": 6,
   "id": "c133fd6f",
   "metadata": {},
   "outputs": [
    {
     "data": {
      "text/html": [
       "<div>\n",
       "<style scoped>\n",
       "    .dataframe tbody tr th:only-of-type {\n",
       "        vertical-align: middle;\n",
       "    }\n",
       "\n",
       "    .dataframe tbody tr th {\n",
       "        vertical-align: top;\n",
       "    }\n",
       "\n",
       "    .dataframe thead th {\n",
       "        text-align: right;\n",
       "    }\n",
       "</style>\n",
       "<table border=\"1\" class=\"dataframe\">\n",
       "  <thead>\n",
       "    <tr style=\"text-align: right;\">\n",
       "      <th></th>\n",
       "      <th>Item</th>\n",
       "      <th>Price</th>\n",
       "    </tr>\n",
       "  </thead>\n",
       "  <tbody>\n",
       "    <tr>\n",
       "      <th>Nokia</th>\n",
       "      <td>Phone</td>\n",
       "      <td>2000</td>\n",
       "    </tr>\n",
       "    <tr>\n",
       "      <th>Apple</th>\n",
       "      <td>TV</td>\n",
       "      <td>3000</td>\n",
       "    </tr>\n",
       "    <tr>\n",
       "      <th>Samsung</th>\n",
       "      <td>AC</td>\n",
       "      <td>1000</td>\n",
       "    </tr>\n",
       "  </tbody>\n",
       "</table>\n",
       "</div>"
      ],
      "text/plain": [
       "          Item  Price\n",
       "Nokia    Phone   2000\n",
       "Apple       TV   3000\n",
       "Samsung     AC   1000"
      ]
     },
     "execution_count": 6,
     "metadata": {},
     "output_type": "execute_result"
    }
   ],
   "source": [
    "df = pd.DataFrame(items, index=[\"Nokia\",\"Apple\",\"Samsung\"], columns=[\"Item\",\"Price\"])\n",
    "df"
   ]
  },
  {
   "cell_type": "code",
   "execution_count": 43,
   "id": "20f75036",
   "metadata": {},
   "outputs": [],
   "source": [
    "# Importing Data"
   ]
  },
  {
   "cell_type": "code",
   "execution_count": 7,
   "id": "dda775b5",
   "metadata": {},
   "outputs": [
    {
     "data": {
      "text/html": [
       "<div>\n",
       "<style scoped>\n",
       "    .dataframe tbody tr th:only-of-type {\n",
       "        vertical-align: middle;\n",
       "    }\n",
       "\n",
       "    .dataframe tbody tr th {\n",
       "        vertical-align: top;\n",
       "    }\n",
       "\n",
       "    .dataframe thead th {\n",
       "        text-align: right;\n",
       "    }\n",
       "</style>\n",
       "<table border=\"1\" class=\"dataframe\">\n",
       "  <thead>\n",
       "    <tr style=\"text-align: right;\">\n",
       "      <th></th>\n",
       "      <th>Name</th>\n",
       "      <th>Age</th>\n",
       "      <th>Qualification</th>\n",
       "      <th>Stream</th>\n",
       "      <th>Title</th>\n",
       "      <th>Experience</th>\n",
       "      <th>Salary</th>\n",
       "      <th>Adress</th>\n",
       "      <th>PrefLocation</th>\n",
       "    </tr>\n",
       "  </thead>\n",
       "  <tbody>\n",
       "    <tr>\n",
       "      <th>0</th>\n",
       "      <td>Neon Prabhakar</td>\n",
       "      <td>22</td>\n",
       "      <td>Bcom</td>\n",
       "      <td>Commerce</td>\n",
       "      <td>Executive</td>\n",
       "      <td>1</td>\n",
       "      <td>12000</td>\n",
       "      <td>East Kadungallur, Near Uc Colleage Desom Ernak...</td>\n",
       "      <td>Ernakulam</td>\n",
       "    </tr>\n",
       "    <tr>\n",
       "      <th>1</th>\n",
       "      <td>R Gopalakrishnan</td>\n",
       "      <td>23</td>\n",
       "      <td>BBA</td>\n",
       "      <td>Administratio</td>\n",
       "      <td>Executive</td>\n",
       "      <td>2</td>\n",
       "      <td>12000</td>\n",
       "      <td>Lakshmi Priya 7 / 39 B Muthu Vayal Kizhakkepur...</td>\n",
       "      <td>Ernakulam</td>\n",
       "    </tr>\n",
       "    <tr>\n",
       "      <th>2</th>\n",
       "      <td>Pratik Kala</td>\n",
       "      <td>22</td>\n",
       "      <td>LLB</td>\n",
       "      <td>Lawyer</td>\n",
       "      <td>Advocate</td>\n",
       "      <td>1</td>\n",
       "      <td>13000</td>\n",
       "      <td>Ledu Vilam, Parambil House, Near Kitchen Zaika...</td>\n",
       "      <td>Ernakulam</td>\n",
       "    </tr>\n",
       "    <tr>\n",
       "      <th>3</th>\n",
       "      <td>Nanda Kumar</td>\n",
       "      <td>24</td>\n",
       "      <td>BSc</td>\n",
       "      <td>Software</td>\n",
       "      <td>Developer</td>\n",
       "      <td>3</td>\n",
       "      <td>35000</td>\n",
       "      <td>Munthottu House Vkt Po Tholakkal Kochi Bharath...</td>\n",
       "      <td>Thrissur</td>\n",
       "    </tr>\n",
       "    <tr>\n",
       "      <th>4</th>\n",
       "      <td>Siju John</td>\n",
       "      <td>25</td>\n",
       "      <td>MCA</td>\n",
       "      <td>Software</td>\n",
       "      <td>Developer</td>\n",
       "      <td>4</td>\n",
       "      <td>35000</td>\n",
       "      <td>Vidhayathil House Attupuram Airoor Ernakulam A...</td>\n",
       "      <td>Ernakulam</td>\n",
       "    </tr>\n",
       "    <tr>\n",
       "      <th>...</th>\n",
       "      <td>...</td>\n",
       "      <td>...</td>\n",
       "      <td>...</td>\n",
       "      <td>...</td>\n",
       "      <td>...</td>\n",
       "      <td>...</td>\n",
       "      <td>...</td>\n",
       "      <td>...</td>\n",
       "      <td>...</td>\n",
       "    </tr>\n",
       "    <tr>\n",
       "      <th>83</th>\n",
       "      <td>Jesfy Joseph</td>\n",
       "      <td>24</td>\n",
       "      <td>BSc</td>\n",
       "      <td>Software</td>\n",
       "      <td>Developer</td>\n",
       "      <td>3</td>\n",
       "      <td>35000</td>\n",
       "      <td>Parattu House Thuruthu Aluva Aluva Ernakulam 6...</td>\n",
       "      <td>Thrissur</td>\n",
       "    </tr>\n",
       "    <tr>\n",
       "      <th>84</th>\n",
       "      <td>Sanulal</td>\n",
       "      <td>25</td>\n",
       "      <td>MCA</td>\n",
       "      <td>Software</td>\n",
       "      <td>Developer</td>\n",
       "      <td>4</td>\n",
       "      <td>35000</td>\n",
       "      <td>63/Nandanam Edapali Edapally Ernakulam 682024</td>\n",
       "      <td>Thrissur</td>\n",
       "    </tr>\n",
       "    <tr>\n",
       "      <th>85</th>\n",
       "      <td>Syamlal</td>\n",
       "      <td>27</td>\n",
       "      <td>BBA</td>\n",
       "      <td>Administratio</td>\n",
       "      <td>Executive</td>\n",
       "      <td>6</td>\n",
       "      <td>12000</td>\n",
       "      <td>Pattathil Ho Vidyanagar Kadavanthra Kadavantha...</td>\n",
       "      <td>Thrissur</td>\n",
       "    </tr>\n",
       "    <tr>\n",
       "      <th>86</th>\n",
       "      <td>Sreeram Devarajan</td>\n",
       "      <td>27</td>\n",
       "      <td>MBA</td>\n",
       "      <td>Administratio</td>\n",
       "      <td>Manager</td>\n",
       "      <td>6</td>\n",
       "      <td>25000</td>\n",
       "      <td>Kalathilparambil House,Elamakara,Puthukalotam ...</td>\n",
       "      <td>Thrissur</td>\n",
       "    </tr>\n",
       "    <tr>\n",
       "      <th>87</th>\n",
       "      <td>Usha Raj</td>\n",
       "      <td>25</td>\n",
       "      <td>MBBS</td>\n",
       "      <td>Medicine</td>\n",
       "      <td>Doctor</td>\n",
       "      <td>4</td>\n",
       "      <td>45000</td>\n",
       "      <td>Vadakedath House,Nethaji Road Aluva Aluva Erna...</td>\n",
       "      <td>Thrissur</td>\n",
       "    </tr>\n",
       "  </tbody>\n",
       "</table>\n",
       "<p>88 rows × 9 columns</p>\n",
       "</div>"
      ],
      "text/plain": [
       "                 Name  Age Qualification         Stream      Title  \\\n",
       "0      Neon Prabhakar   22          Bcom       Commerce  Executive   \n",
       "1    R Gopalakrishnan   23           BBA  Administratio  Executive   \n",
       "2         Pratik Kala   22           LLB         Lawyer   Advocate   \n",
       "3         Nanda Kumar   24           BSc       Software  Developer   \n",
       "4           Siju John   25           MCA       Software  Developer   \n",
       "..                ...  ...           ...            ...        ...   \n",
       "83       Jesfy Joseph   24           BSc       Software  Developer   \n",
       "84            Sanulal   25           MCA       Software  Developer   \n",
       "85            Syamlal   27           BBA  Administratio  Executive   \n",
       "86  Sreeram Devarajan   27           MBA  Administratio    Manager   \n",
       "87           Usha Raj   25          MBBS       Medicine     Doctor   \n",
       "\n",
       "    Experience  Salary                                             Adress  \\\n",
       "0            1   12000  East Kadungallur, Near Uc Colleage Desom Ernak...   \n",
       "1            2   12000  Lakshmi Priya 7 / 39 B Muthu Vayal Kizhakkepur...   \n",
       "2            1   13000  Ledu Vilam, Parambil House, Near Kitchen Zaika...   \n",
       "3            3   35000  Munthottu House Vkt Po Tholakkal Kochi Bharath...   \n",
       "4            4   35000  Vidhayathil House Attupuram Airoor Ernakulam A...   \n",
       "..         ...     ...                                                ...   \n",
       "83           3   35000  Parattu House Thuruthu Aluva Aluva Ernakulam 6...   \n",
       "84           4   35000      63/Nandanam Edapali Edapally Ernakulam 682024   \n",
       "85           6   12000  Pattathil Ho Vidyanagar Kadavanthra Kadavantha...   \n",
       "86           6   25000  Kalathilparambil House,Elamakara,Puthukalotam ...   \n",
       "87           4   45000  Vadakedath House,Nethaji Road Aluva Aluva Erna...   \n",
       "\n",
       "   PrefLocation  \n",
       "0     Ernakulam  \n",
       "1     Ernakulam  \n",
       "2     Ernakulam  \n",
       "3      Thrissur  \n",
       "4     Ernakulam  \n",
       "..          ...  \n",
       "83     Thrissur  \n",
       "84     Thrissur  \n",
       "85     Thrissur  \n",
       "86     Thrissur  \n",
       "87     Thrissur  \n",
       "\n",
       "[88 rows x 9 columns]"
      ]
     },
     "execution_count": 7,
     "metadata": {},
     "output_type": "execute_result"
    }
   ],
   "source": [
    "data = pd.read_csv(\"Jobsearchdata.csv\")\n",
    "data"
   ]
  },
  {
   "cell_type": "code",
   "execution_count": 48,
   "id": "92af450a",
   "metadata": {},
   "outputs": [
    {
     "data": {
      "text/plain": [
       "(88, 9)"
      ]
     },
     "execution_count": 48,
     "metadata": {},
     "output_type": "execute_result"
    }
   ],
   "source": [
    "data.shape"
   ]
  },
  {
   "cell_type": "code",
   "execution_count": 52,
   "id": "174e6ada",
   "metadata": {},
   "outputs": [
    {
     "data": {
      "text/html": [
       "<div>\n",
       "<style scoped>\n",
       "    .dataframe tbody tr th:only-of-type {\n",
       "        vertical-align: middle;\n",
       "    }\n",
       "\n",
       "    .dataframe tbody tr th {\n",
       "        vertical-align: top;\n",
       "    }\n",
       "\n",
       "    .dataframe thead th {\n",
       "        text-align: right;\n",
       "    }\n",
       "</style>\n",
       "<table border=\"1\" class=\"dataframe\">\n",
       "  <thead>\n",
       "    <tr style=\"text-align: right;\">\n",
       "      <th></th>\n",
       "      <th>Name</th>\n",
       "      <th>Age</th>\n",
       "      <th>Qualification</th>\n",
       "      <th>Stream</th>\n",
       "      <th>Title</th>\n",
       "      <th>Experience</th>\n",
       "      <th>Salary</th>\n",
       "      <th>Adress</th>\n",
       "      <th>PrefLocation</th>\n",
       "    </tr>\n",
       "  </thead>\n",
       "  <tbody>\n",
       "    <tr>\n",
       "      <th>0</th>\n",
       "      <td>Neon Prabhakar</td>\n",
       "      <td>22</td>\n",
       "      <td>Bcom</td>\n",
       "      <td>Commerce</td>\n",
       "      <td>Executive</td>\n",
       "      <td>1</td>\n",
       "      <td>12000</td>\n",
       "      <td>East Kadungallur, Near Uc Colleage Desom Ernak...</td>\n",
       "      <td>Ernakulam</td>\n",
       "    </tr>\n",
       "    <tr>\n",
       "      <th>1</th>\n",
       "      <td>R Gopalakrishnan</td>\n",
       "      <td>23</td>\n",
       "      <td>BBA</td>\n",
       "      <td>Administratio</td>\n",
       "      <td>Executive</td>\n",
       "      <td>2</td>\n",
       "      <td>12000</td>\n",
       "      <td>Lakshmi Priya 7 / 39 B Muthu Vayal Kizhakkepur...</td>\n",
       "      <td>Ernakulam</td>\n",
       "    </tr>\n",
       "    <tr>\n",
       "      <th>2</th>\n",
       "      <td>Pratik Kala</td>\n",
       "      <td>22</td>\n",
       "      <td>LLB</td>\n",
       "      <td>Lawyer</td>\n",
       "      <td>Advocate</td>\n",
       "      <td>1</td>\n",
       "      <td>13000</td>\n",
       "      <td>Ledu Vilam, Parambil House, Near Kitchen Zaika...</td>\n",
       "      <td>Ernakulam</td>\n",
       "    </tr>\n",
       "    <tr>\n",
       "      <th>3</th>\n",
       "      <td>Nanda Kumar</td>\n",
       "      <td>24</td>\n",
       "      <td>BSc</td>\n",
       "      <td>Software</td>\n",
       "      <td>Developer</td>\n",
       "      <td>3</td>\n",
       "      <td>35000</td>\n",
       "      <td>Munthottu House Vkt Po Tholakkal Kochi Bharath...</td>\n",
       "      <td>Thrissur</td>\n",
       "    </tr>\n",
       "    <tr>\n",
       "      <th>4</th>\n",
       "      <td>Siju John</td>\n",
       "      <td>25</td>\n",
       "      <td>MCA</td>\n",
       "      <td>Software</td>\n",
       "      <td>Developer</td>\n",
       "      <td>4</td>\n",
       "      <td>35000</td>\n",
       "      <td>Vidhayathil House Attupuram Airoor Ernakulam A...</td>\n",
       "      <td>Ernakulam</td>\n",
       "    </tr>\n",
       "    <tr>\n",
       "      <th>5</th>\n",
       "      <td>M K Shaji</td>\n",
       "      <td>27</td>\n",
       "      <td>BBA</td>\n",
       "      <td>Administratio</td>\n",
       "      <td>Executive</td>\n",
       "      <td>6</td>\n",
       "      <td>12000</td>\n",
       "      <td>Maithala Hoise,Kakkanad,Ekm Kakkanad Ernakulam...</td>\n",
       "      <td>Thrissur</td>\n",
       "    </tr>\n",
       "    <tr>\n",
       "      <th>6</th>\n",
       "      <td>Anas</td>\n",
       "      <td>27</td>\n",
       "      <td>MBA</td>\n",
       "      <td>Administratio</td>\n",
       "      <td>Manager</td>\n",
       "      <td>6</td>\n",
       "      <td>25000</td>\n",
       "      <td>Arphampattai House H M T Colony Kalamasheri Er...</td>\n",
       "      <td>Trivandrum</td>\n",
       "    </tr>\n",
       "    <tr>\n",
       "      <th>7</th>\n",
       "      <td>Joshy Kuruvila</td>\n",
       "      <td>31</td>\n",
       "      <td>MBBS</td>\n",
       "      <td>Medicine</td>\n",
       "      <td>Doctor</td>\n",
       "      <td>10</td>\n",
       "      <td>100000</td>\n",
       "      <td>K.M.K Jn, N.Paravur Ezhikkara Ernakulam 683513</td>\n",
       "      <td>Ernakulam</td>\n",
       "    </tr>\n",
       "    <tr>\n",
       "      <th>8</th>\n",
       "      <td>Jose Electicvala</td>\n",
       "      <td>29</td>\n",
       "      <td>Diploma</td>\n",
       "      <td>Operator</td>\n",
       "      <td>Supervisor</td>\n",
       "      <td>8</td>\n",
       "      <td>13000</td>\n",
       "      <td>Mg Road Near Shenoy Theatre Ernakulam College ...</td>\n",
       "      <td>Ernakulam</td>\n",
       "    </tr>\n",
       "    <tr>\n",
       "      <th>9</th>\n",
       "      <td>Sasna</td>\n",
       "      <td>26</td>\n",
       "      <td>BE</td>\n",
       "      <td>Software</td>\n",
       "      <td>Engineer</td>\n",
       "      <td>5</td>\n",
       "      <td>15000</td>\n",
       "      <td>Triarch Hube Appartment 5 D Kanakerinagar Road...</td>\n",
       "      <td>Calicut</td>\n",
       "    </tr>\n",
       "  </tbody>\n",
       "</table>\n",
       "</div>"
      ],
      "text/plain": [
       "               Name  Age Qualification         Stream       Title  Experience  \\\n",
       "0    Neon Prabhakar   22          Bcom       Commerce   Executive           1   \n",
       "1  R Gopalakrishnan   23           BBA  Administratio   Executive           2   \n",
       "2       Pratik Kala   22           LLB         Lawyer    Advocate           1   \n",
       "3       Nanda Kumar   24           BSc       Software   Developer           3   \n",
       "4         Siju John   25           MCA       Software   Developer           4   \n",
       "5         M K Shaji   27           BBA  Administratio   Executive           6   \n",
       "6              Anas   27           MBA  Administratio     Manager           6   \n",
       "7    Joshy Kuruvila   31          MBBS       Medicine      Doctor          10   \n",
       "8  Jose Electicvala   29       Diploma       Operator  Supervisor           8   \n",
       "9             Sasna   26            BE       Software    Engineer           5   \n",
       "\n",
       "   Salary                                             Adress PrefLocation  \n",
       "0   12000  East Kadungallur, Near Uc Colleage Desom Ernak...    Ernakulam  \n",
       "1   12000  Lakshmi Priya 7 / 39 B Muthu Vayal Kizhakkepur...    Ernakulam  \n",
       "2   13000  Ledu Vilam, Parambil House, Near Kitchen Zaika...    Ernakulam  \n",
       "3   35000  Munthottu House Vkt Po Tholakkal Kochi Bharath...     Thrissur  \n",
       "4   35000  Vidhayathil House Attupuram Airoor Ernakulam A...    Ernakulam  \n",
       "5   12000  Maithala Hoise,Kakkanad,Ekm Kakkanad Ernakulam...     Thrissur  \n",
       "6   25000  Arphampattai House H M T Colony Kalamasheri Er...   Trivandrum  \n",
       "7  100000     K.M.K Jn, N.Paravur Ezhikkara Ernakulam 683513    Ernakulam  \n",
       "8   13000  Mg Road Near Shenoy Theatre Ernakulam College ...    Ernakulam  \n",
       "9   15000  Triarch Hube Appartment 5 D Kanakerinagar Road...      Calicut  "
      ]
     },
     "execution_count": 52,
     "metadata": {},
     "output_type": "execute_result"
    }
   ],
   "source": [
    "data.head(10)"
   ]
  },
  {
   "cell_type": "code",
   "execution_count": 51,
   "id": "fbc9ee6d",
   "metadata": {},
   "outputs": [
    {
     "data": {
      "text/html": [
       "<div>\n",
       "<style scoped>\n",
       "    .dataframe tbody tr th:only-of-type {\n",
       "        vertical-align: middle;\n",
       "    }\n",
       "\n",
       "    .dataframe tbody tr th {\n",
       "        vertical-align: top;\n",
       "    }\n",
       "\n",
       "    .dataframe thead th {\n",
       "        text-align: right;\n",
       "    }\n",
       "</style>\n",
       "<table border=\"1\" class=\"dataframe\">\n",
       "  <thead>\n",
       "    <tr style=\"text-align: right;\">\n",
       "      <th></th>\n",
       "      <th>Name</th>\n",
       "      <th>Age</th>\n",
       "      <th>Qualification</th>\n",
       "      <th>Stream</th>\n",
       "      <th>Title</th>\n",
       "      <th>Experience</th>\n",
       "      <th>Salary</th>\n",
       "      <th>Adress</th>\n",
       "      <th>PrefLocation</th>\n",
       "    </tr>\n",
       "  </thead>\n",
       "  <tbody>\n",
       "    <tr>\n",
       "      <th>78</th>\n",
       "      <td>Tina George</td>\n",
       "      <td>27</td>\n",
       "      <td>Diploma</td>\n",
       "      <td>Operator</td>\n",
       "      <td>Supervisor</td>\n",
       "      <td>6</td>\n",
       "      <td>13000</td>\n",
       "      <td>Muttathu House Kalasthil Road Aluva Ernakulam ...</td>\n",
       "      <td>Thrissur</td>\n",
       "    </tr>\n",
       "    <tr>\n",
       "      <th>79</th>\n",
       "      <td>Asif K A</td>\n",
       "      <td>25</td>\n",
       "      <td>Diploma</td>\n",
       "      <td>Operator</td>\n",
       "      <td>Operator</td>\n",
       "      <td>4</td>\n",
       "      <td>10000</td>\n",
       "      <td>Jaygeetham House Aluva Mala Road Poyikattusher...</td>\n",
       "      <td>Thrissur</td>\n",
       "    </tr>\n",
       "    <tr>\n",
       "      <th>80</th>\n",
       "      <td>Mohamad Api</td>\n",
       "      <td>27</td>\n",
       "      <td>Diploma</td>\n",
       "      <td>Operator</td>\n",
       "      <td>Supervisor</td>\n",
       "      <td>6</td>\n",
       "      <td>13000</td>\n",
       "      <td>8thd Ottumen Bale ,Divya Nagar,Kadavanthra Kad...</td>\n",
       "      <td>Thrissur</td>\n",
       "    </tr>\n",
       "    <tr>\n",
       "      <th>81</th>\n",
       "      <td>Abubaker</td>\n",
       "      <td>27</td>\n",
       "      <td>Diploma</td>\n",
       "      <td>Operator</td>\n",
       "      <td>Supervisor</td>\n",
       "      <td>6</td>\n",
       "      <td>13000</td>\n",
       "      <td>Kalluveetil House,North Mattakkad,Hmt Colony P...</td>\n",
       "      <td>Thrissur</td>\n",
       "    </tr>\n",
       "    <tr>\n",
       "      <th>82</th>\n",
       "      <td>Jayadevan</td>\n",
       "      <td>22</td>\n",
       "      <td>Diploma</td>\n",
       "      <td>Operator</td>\n",
       "      <td>Operator</td>\n",
       "      <td>1</td>\n",
       "      <td>8000</td>\n",
       "      <td>Ilx,Kalathi Parambu Road,Elavadakadu,Ernakulam...</td>\n",
       "      <td>Thrissur</td>\n",
       "    </tr>\n",
       "    <tr>\n",
       "      <th>83</th>\n",
       "      <td>Jesfy Joseph</td>\n",
       "      <td>24</td>\n",
       "      <td>BSc</td>\n",
       "      <td>Software</td>\n",
       "      <td>Developer</td>\n",
       "      <td>3</td>\n",
       "      <td>35000</td>\n",
       "      <td>Parattu House Thuruthu Aluva Aluva Ernakulam 6...</td>\n",
       "      <td>Thrissur</td>\n",
       "    </tr>\n",
       "    <tr>\n",
       "      <th>84</th>\n",
       "      <td>Sanulal</td>\n",
       "      <td>25</td>\n",
       "      <td>MCA</td>\n",
       "      <td>Software</td>\n",
       "      <td>Developer</td>\n",
       "      <td>4</td>\n",
       "      <td>35000</td>\n",
       "      <td>63/Nandanam Edapali Edapally Ernakulam 682024</td>\n",
       "      <td>Thrissur</td>\n",
       "    </tr>\n",
       "    <tr>\n",
       "      <th>85</th>\n",
       "      <td>Syamlal</td>\n",
       "      <td>27</td>\n",
       "      <td>BBA</td>\n",
       "      <td>Administratio</td>\n",
       "      <td>Executive</td>\n",
       "      <td>6</td>\n",
       "      <td>12000</td>\n",
       "      <td>Pattathil Ho Vidyanagar Kadavanthra Kadavantha...</td>\n",
       "      <td>Thrissur</td>\n",
       "    </tr>\n",
       "    <tr>\n",
       "      <th>86</th>\n",
       "      <td>Sreeram Devarajan</td>\n",
       "      <td>27</td>\n",
       "      <td>MBA</td>\n",
       "      <td>Administratio</td>\n",
       "      <td>Manager</td>\n",
       "      <td>6</td>\n",
       "      <td>25000</td>\n",
       "      <td>Kalathilparambil House,Elamakara,Puthukalotam ...</td>\n",
       "      <td>Thrissur</td>\n",
       "    </tr>\n",
       "    <tr>\n",
       "      <th>87</th>\n",
       "      <td>Usha Raj</td>\n",
       "      <td>25</td>\n",
       "      <td>MBBS</td>\n",
       "      <td>Medicine</td>\n",
       "      <td>Doctor</td>\n",
       "      <td>4</td>\n",
       "      <td>45000</td>\n",
       "      <td>Vadakedath House,Nethaji Road Aluva Aluva Erna...</td>\n",
       "      <td>Thrissur</td>\n",
       "    </tr>\n",
       "  </tbody>\n",
       "</table>\n",
       "</div>"
      ],
      "text/plain": [
       "                 Name  Age Qualification         Stream       Title  \\\n",
       "78        Tina George   27       Diploma       Operator  Supervisor   \n",
       "79           Asif K A   25       Diploma       Operator    Operator   \n",
       "80        Mohamad Api   27       Diploma       Operator  Supervisor   \n",
       "81           Abubaker   27       Diploma       Operator  Supervisor   \n",
       "82          Jayadevan   22       Diploma       Operator    Operator   \n",
       "83       Jesfy Joseph   24           BSc       Software   Developer   \n",
       "84            Sanulal   25           MCA       Software   Developer   \n",
       "85            Syamlal   27           BBA  Administratio   Executive   \n",
       "86  Sreeram Devarajan   27           MBA  Administratio     Manager   \n",
       "87           Usha Raj   25          MBBS       Medicine      Doctor   \n",
       "\n",
       "    Experience  Salary                                             Adress  \\\n",
       "78           6   13000  Muttathu House Kalasthil Road Aluva Ernakulam ...   \n",
       "79           4   10000  Jaygeetham House Aluva Mala Road Poyikattusher...   \n",
       "80           6   13000  8thd Ottumen Bale ,Divya Nagar,Kadavanthra Kad...   \n",
       "81           6   13000  Kalluveetil House,North Mattakkad,Hmt Colony P...   \n",
       "82           1    8000  Ilx,Kalathi Parambu Road,Elavadakadu,Ernakulam...   \n",
       "83           3   35000  Parattu House Thuruthu Aluva Aluva Ernakulam 6...   \n",
       "84           4   35000      63/Nandanam Edapali Edapally Ernakulam 682024   \n",
       "85           6   12000  Pattathil Ho Vidyanagar Kadavanthra Kadavantha...   \n",
       "86           6   25000  Kalathilparambil House,Elamakara,Puthukalotam ...   \n",
       "87           4   45000  Vadakedath House,Nethaji Road Aluva Aluva Erna...   \n",
       "\n",
       "   PrefLocation  \n",
       "78     Thrissur  \n",
       "79     Thrissur  \n",
       "80     Thrissur  \n",
       "81     Thrissur  \n",
       "82     Thrissur  \n",
       "83     Thrissur  \n",
       "84     Thrissur  \n",
       "85     Thrissur  \n",
       "86     Thrissur  \n",
       "87     Thrissur  "
      ]
     },
     "execution_count": 51,
     "metadata": {},
     "output_type": "execute_result"
    }
   ],
   "source": [
    "data.tail(10)"
   ]
  },
  {
   "cell_type": "code",
   "execution_count": 53,
   "id": "ecf63024",
   "metadata": {},
   "outputs": [
    {
     "data": {
      "text/html": [
       "<div>\n",
       "<style scoped>\n",
       "    .dataframe tbody tr th:only-of-type {\n",
       "        vertical-align: middle;\n",
       "    }\n",
       "\n",
       "    .dataframe tbody tr th {\n",
       "        vertical-align: top;\n",
       "    }\n",
       "\n",
       "    .dataframe thead th {\n",
       "        text-align: right;\n",
       "    }\n",
       "</style>\n",
       "<table border=\"1\" class=\"dataframe\">\n",
       "  <thead>\n",
       "    <tr style=\"text-align: right;\">\n",
       "      <th></th>\n",
       "      <th>Name</th>\n",
       "      <th>Age</th>\n",
       "      <th>Qualification</th>\n",
       "      <th>Stream</th>\n",
       "      <th>Title</th>\n",
       "      <th>Experience</th>\n",
       "      <th>Salary</th>\n",
       "      <th>Adress</th>\n",
       "      <th>PrefLocation</th>\n",
       "    </tr>\n",
       "  </thead>\n",
       "  <tbody>\n",
       "    <tr>\n",
       "      <th>70</th>\n",
       "      <td>Syed Faraz</td>\n",
       "      <td>24</td>\n",
       "      <td>Diploma</td>\n",
       "      <td>Operator</td>\n",
       "      <td>Operator</td>\n",
       "      <td>3</td>\n",
       "      <td>10000</td>\n",
       "      <td>Edapally Toll Nr. Sharavana Bhavan Edapally Er...</td>\n",
       "      <td>Thrissur</td>\n",
       "    </tr>\n",
       "    <tr>\n",
       "      <th>71</th>\n",
       "      <td>Sudeer</td>\n",
       "      <td>25</td>\n",
       "      <td>Diploma</td>\n",
       "      <td>Software</td>\n",
       "      <td>Operator</td>\n",
       "      <td>4</td>\n",
       "      <td>10000</td>\n",
       "      <td>1a Highland Nr Police Station Bharatha Matha C...</td>\n",
       "      <td>Thrissur</td>\n",
       "    </tr>\n",
       "    <tr>\n",
       "      <th>72</th>\n",
       "      <td>Saya Nishanth</td>\n",
       "      <td>27</td>\n",
       "      <td>MCA</td>\n",
       "      <td>Software</td>\n",
       "      <td>Developer</td>\n",
       "      <td>6</td>\n",
       "      <td>35000</td>\n",
       "      <td>8a Trinity Neptune Trinity World Road Chitteth...</td>\n",
       "      <td>Thrissur</td>\n",
       "    </tr>\n",
       "    <tr>\n",
       "      <th>73</th>\n",
       "      <td>Deepesh</td>\n",
       "      <td>27</td>\n",
       "      <td>BBA</td>\n",
       "      <td>Administratio</td>\n",
       "      <td>Executive</td>\n",
       "      <td>6</td>\n",
       "      <td>12000</td>\n",
       "      <td>Kalmasheri Kalamasseri Ernakulam 683104</td>\n",
       "      <td>Thrissur</td>\n",
       "    </tr>\n",
       "    <tr>\n",
       "      <th>74</th>\n",
       "      <td>Dr Vithun Vinod</td>\n",
       "      <td>22</td>\n",
       "      <td>MBA</td>\n",
       "      <td>Administratio</td>\n",
       "      <td>Manager</td>\n",
       "      <td>1</td>\n",
       "      <td>25000</td>\n",
       "      <td>Mukiramattam House,Vattaparamp P.O,Kodissery N...</td>\n",
       "      <td>Thrissur</td>\n",
       "    </tr>\n",
       "    <tr>\n",
       "      <th>75</th>\n",
       "      <td>Stabastin Pj</td>\n",
       "      <td>24</td>\n",
       "      <td>MBBS</td>\n",
       "      <td>Medicine</td>\n",
       "      <td>Doctor</td>\n",
       "      <td>3</td>\n",
       "      <td>45000</td>\n",
       "      <td>Edapally Pookatupady Road Edapally Ernakulam 6...</td>\n",
       "      <td>Ernakulam</td>\n",
       "    </tr>\n",
       "    <tr>\n",
       "      <th>76</th>\n",
       "      <td>Sunitha</td>\n",
       "      <td>25</td>\n",
       "      <td>Diploma</td>\n",
       "      <td>Operator</td>\n",
       "      <td>Operator</td>\n",
       "      <td>4</td>\n",
       "      <td>10000</td>\n",
       "      <td>Vaishnavam , Kottapuram , Alangad, Ernakulam K...</td>\n",
       "      <td>Thrissur</td>\n",
       "    </tr>\n",
       "  </tbody>\n",
       "</table>\n",
       "</div>"
      ],
      "text/plain": [
       "               Name  Age Qualification         Stream      Title  Experience  \\\n",
       "70       Syed Faraz   24       Diploma       Operator   Operator           3   \n",
       "71           Sudeer   25       Diploma       Software   Operator           4   \n",
       "72    Saya Nishanth   27           MCA       Software  Developer           6   \n",
       "73          Deepesh   27           BBA  Administratio  Executive           6   \n",
       "74  Dr Vithun Vinod   22           MBA  Administratio    Manager           1   \n",
       "75     Stabastin Pj   24          MBBS       Medicine     Doctor           3   \n",
       "76          Sunitha   25       Diploma       Operator   Operator           4   \n",
       "\n",
       "    Salary                                             Adress PrefLocation  \n",
       "70   10000  Edapally Toll Nr. Sharavana Bhavan Edapally Er...     Thrissur  \n",
       "71   10000  1a Highland Nr Police Station Bharatha Matha C...     Thrissur  \n",
       "72   35000  8a Trinity Neptune Trinity World Road Chitteth...     Thrissur  \n",
       "73   12000            Kalmasheri Kalamasseri Ernakulam 683104     Thrissur  \n",
       "74   25000  Mukiramattam House,Vattaparamp P.O,Kodissery N...     Thrissur  \n",
       "75   45000  Edapally Pookatupady Road Edapally Ernakulam 6...    Ernakulam  \n",
       "76   10000  Vaishnavam , Kottapuram , Alangad, Ernakulam K...     Thrissur  "
      ]
     },
     "execution_count": 53,
     "metadata": {},
     "output_type": "execute_result"
    }
   ],
   "source": [
    "data.loc[70:76]  # It is not a funnction, it is an argument."
   ]
  },
  {
   "cell_type": "code",
   "execution_count": 56,
   "id": "85850bf3",
   "metadata": {},
   "outputs": [
    {
     "data": {
      "text/html": [
       "<div>\n",
       "<style scoped>\n",
       "    .dataframe tbody tr th:only-of-type {\n",
       "        vertical-align: middle;\n",
       "    }\n",
       "\n",
       "    .dataframe tbody tr th {\n",
       "        vertical-align: top;\n",
       "    }\n",
       "\n",
       "    .dataframe thead th {\n",
       "        text-align: right;\n",
       "    }\n",
       "</style>\n",
       "<table border=\"1\" class=\"dataframe\">\n",
       "  <thead>\n",
       "    <tr style=\"text-align: right;\">\n",
       "      <th></th>\n",
       "      <th>Name</th>\n",
       "      <th>Age</th>\n",
       "      <th>Qualification</th>\n",
       "      <th>Stream</th>\n",
       "      <th>Title</th>\n",
       "      <th>Experience</th>\n",
       "      <th>Salary</th>\n",
       "      <th>Adress</th>\n",
       "      <th>PrefLocation</th>\n",
       "    </tr>\n",
       "  </thead>\n",
       "  <tbody>\n",
       "    <tr>\n",
       "      <th>0</th>\n",
       "      <td>Neon Prabhakar</td>\n",
       "      <td>22</td>\n",
       "      <td>Bcom</td>\n",
       "      <td>Commerce</td>\n",
       "      <td>Executive</td>\n",
       "      <td>1</td>\n",
       "      <td>12000</td>\n",
       "      <td>East Kadungallur, Near Uc Colleage Desom Ernak...</td>\n",
       "      <td>Ernakulam</td>\n",
       "    </tr>\n",
       "    <tr>\n",
       "      <th>2</th>\n",
       "      <td>Pratik Kala</td>\n",
       "      <td>22</td>\n",
       "      <td>LLB</td>\n",
       "      <td>Lawyer</td>\n",
       "      <td>Advocate</td>\n",
       "      <td>1</td>\n",
       "      <td>13000</td>\n",
       "      <td>Ledu Vilam, Parambil House, Near Kitchen Zaika...</td>\n",
       "      <td>Ernakulam</td>\n",
       "    </tr>\n",
       "    <tr>\n",
       "      <th>4</th>\n",
       "      <td>Siju John</td>\n",
       "      <td>25</td>\n",
       "      <td>MCA</td>\n",
       "      <td>Software</td>\n",
       "      <td>Developer</td>\n",
       "      <td>4</td>\n",
       "      <td>35000</td>\n",
       "      <td>Vidhayathil House Attupuram Airoor Ernakulam A...</td>\n",
       "      <td>Ernakulam</td>\n",
       "    </tr>\n",
       "    <tr>\n",
       "      <th>6</th>\n",
       "      <td>Anas</td>\n",
       "      <td>27</td>\n",
       "      <td>MBA</td>\n",
       "      <td>Administratio</td>\n",
       "      <td>Manager</td>\n",
       "      <td>6</td>\n",
       "      <td>25000</td>\n",
       "      <td>Arphampattai House H M T Colony Kalamasheri Er...</td>\n",
       "      <td>Trivandrum</td>\n",
       "    </tr>\n",
       "    <tr>\n",
       "      <th>10</th>\n",
       "      <td>Vijiya Kumar</td>\n",
       "      <td>30</td>\n",
       "      <td>MBA</td>\n",
       "      <td>Administratio</td>\n",
       "      <td>Manager</td>\n",
       "      <td>9</td>\n",
       "      <td>25000</td>\n",
       "      <td>Varaparabila House Palika Chera Paipada Kottya...</td>\n",
       "      <td>Kottayam</td>\n",
       "    </tr>\n",
       "  </tbody>\n",
       "</table>\n",
       "</div>"
      ],
      "text/plain": [
       "              Name  Age Qualification         Stream      Title  Experience  \\\n",
       "0   Neon Prabhakar   22          Bcom       Commerce  Executive           1   \n",
       "2      Pratik Kala   22           LLB         Lawyer   Advocate           1   \n",
       "4        Siju John   25           MCA       Software  Developer           4   \n",
       "6             Anas   27           MBA  Administratio    Manager           6   \n",
       "10    Vijiya Kumar   30           MBA  Administratio    Manager           9   \n",
       "\n",
       "    Salary                                             Adress PrefLocation  \n",
       "0    12000  East Kadungallur, Near Uc Colleage Desom Ernak...    Ernakulam  \n",
       "2    13000  Ledu Vilam, Parambil House, Near Kitchen Zaika...    Ernakulam  \n",
       "4    35000  Vidhayathil House Attupuram Airoor Ernakulam A...    Ernakulam  \n",
       "6    25000  Arphampattai House H M T Colony Kalamasheri Er...   Trivandrum  \n",
       "10   25000  Varaparabila House Palika Chera Paipada Kottya...     Kottayam  "
      ]
     },
     "execution_count": 56,
     "metadata": {},
     "output_type": "execute_result"
    }
   ],
   "source": [
    "data.loc[[0,2,4,6,10]]  # Must give double brackets."
   ]
  },
  {
   "cell_type": "code",
   "execution_count": 62,
   "id": "2960b4d5",
   "metadata": {},
   "outputs": [
    {
     "data": {
      "text/html": [
       "<div>\n",
       "<style scoped>\n",
       "    .dataframe tbody tr th:only-of-type {\n",
       "        vertical-align: middle;\n",
       "    }\n",
       "\n",
       "    .dataframe tbody tr th {\n",
       "        vertical-align: top;\n",
       "    }\n",
       "\n",
       "    .dataframe thead th {\n",
       "        text-align: right;\n",
       "    }\n",
       "</style>\n",
       "<table border=\"1\" class=\"dataframe\">\n",
       "  <thead>\n",
       "    <tr style=\"text-align: right;\">\n",
       "      <th></th>\n",
       "      <th>Name</th>\n",
       "      <th>Title</th>\n",
       "    </tr>\n",
       "  </thead>\n",
       "  <tbody>\n",
       "    <tr>\n",
       "      <th>0</th>\n",
       "      <td>Neon Prabhakar</td>\n",
       "      <td>Executive</td>\n",
       "    </tr>\n",
       "    <tr>\n",
       "      <th>2</th>\n",
       "      <td>Pratik Kala</td>\n",
       "      <td>Advocate</td>\n",
       "    </tr>\n",
       "    <tr>\n",
       "      <th>4</th>\n",
       "      <td>Siju John</td>\n",
       "      <td>Developer</td>\n",
       "    </tr>\n",
       "    <tr>\n",
       "      <th>6</th>\n",
       "      <td>Anas</td>\n",
       "      <td>Manager</td>\n",
       "    </tr>\n",
       "    <tr>\n",
       "      <th>10</th>\n",
       "      <td>Vijiya Kumar</td>\n",
       "      <td>Manager</td>\n",
       "    </tr>\n",
       "  </tbody>\n",
       "</table>\n",
       "</div>"
      ],
      "text/plain": [
       "              Name      Title\n",
       "0   Neon Prabhakar  Executive\n",
       "2      Pratik Kala   Advocate\n",
       "4        Siju John  Developer\n",
       "6             Anas    Manager\n",
       "10    Vijiya Kumar    Manager"
      ]
     },
     "execution_count": 62,
     "metadata": {},
     "output_type": "execute_result"
    }
   ],
   "source": [
    "data1 = data.loc[[0,2,4,6,10],[\"Name\",\"Title\"]]\n",
    "data1"
   ]
  },
  {
   "cell_type": "code",
   "execution_count": 64,
   "id": "a2de3d05",
   "metadata": {},
   "outputs": [
    {
     "data": {
      "text/html": [
       "<div>\n",
       "<style scoped>\n",
       "    .dataframe tbody tr th:only-of-type {\n",
       "        vertical-align: middle;\n",
       "    }\n",
       "\n",
       "    .dataframe tbody tr th {\n",
       "        vertical-align: top;\n",
       "    }\n",
       "\n",
       "    .dataframe thead th {\n",
       "        text-align: right;\n",
       "    }\n",
       "</style>\n",
       "<table border=\"1\" class=\"dataframe\">\n",
       "  <thead>\n",
       "    <tr style=\"text-align: right;\">\n",
       "      <th></th>\n",
       "      <th>Age</th>\n",
       "      <th>Experience</th>\n",
       "      <th>Salary</th>\n",
       "    </tr>\n",
       "  </thead>\n",
       "  <tbody>\n",
       "    <tr>\n",
       "      <th>count</th>\n",
       "      <td>88.000000</td>\n",
       "      <td>88.000000</td>\n",
       "      <td>88.000000</td>\n",
       "    </tr>\n",
       "    <tr>\n",
       "      <th>mean</th>\n",
       "      <td>24.943182</td>\n",
       "      <td>3.943182</td>\n",
       "      <td>23534.090909</td>\n",
       "    </tr>\n",
       "    <tr>\n",
       "      <th>std</th>\n",
       "      <td>2.178041</td>\n",
       "      <td>2.178041</td>\n",
       "      <td>14008.165815</td>\n",
       "    </tr>\n",
       "    <tr>\n",
       "      <th>min</th>\n",
       "      <td>21.000000</td>\n",
       "      <td>0.000000</td>\n",
       "      <td>8000.000000</td>\n",
       "    </tr>\n",
       "    <tr>\n",
       "      <th>25%</th>\n",
       "      <td>23.000000</td>\n",
       "      <td>2.000000</td>\n",
       "      <td>12000.000000</td>\n",
       "    </tr>\n",
       "    <tr>\n",
       "      <th>50%</th>\n",
       "      <td>25.000000</td>\n",
       "      <td>4.000000</td>\n",
       "      <td>25000.000000</td>\n",
       "    </tr>\n",
       "    <tr>\n",
       "      <th>75%</th>\n",
       "      <td>27.000000</td>\n",
       "      <td>6.000000</td>\n",
       "      <td>35000.000000</td>\n",
       "    </tr>\n",
       "    <tr>\n",
       "      <th>max</th>\n",
       "      <td>31.000000</td>\n",
       "      <td>10.000000</td>\n",
       "      <td>100000.000000</td>\n",
       "    </tr>\n",
       "  </tbody>\n",
       "</table>\n",
       "</div>"
      ],
      "text/plain": [
       "             Age  Experience         Salary\n",
       "count  88.000000   88.000000      88.000000\n",
       "mean   24.943182    3.943182   23534.090909\n",
       "std     2.178041    2.178041   14008.165815\n",
       "min    21.000000    0.000000    8000.000000\n",
       "25%    23.000000    2.000000   12000.000000\n",
       "50%    25.000000    4.000000   25000.000000\n",
       "75%    27.000000    6.000000   35000.000000\n",
       "max    31.000000   10.000000  100000.000000"
      ]
     },
     "execution_count": 64,
     "metadata": {},
     "output_type": "execute_result"
    }
   ],
   "source": [
    "data.describe() # Used to provide a description of the DataFrame. Only mathematical calculations are visible."
   ]
  },
  {
   "cell_type": "code",
   "execution_count": 66,
   "id": "37925195",
   "metadata": {},
   "outputs": [
    {
     "name": "stdout",
     "output_type": "stream",
     "text": [
      "<class 'pandas.core.frame.DataFrame'>\n",
      "RangeIndex: 88 entries, 0 to 87\n",
      "Data columns (total 9 columns):\n",
      " #   Column         Non-Null Count  Dtype \n",
      "---  ------         --------------  ----- \n",
      " 0   Name           88 non-null     object\n",
      " 1   Age            88 non-null     int64 \n",
      " 2   Qualification  88 non-null     object\n",
      " 3   Stream         88 non-null     object\n",
      " 4   Title          88 non-null     object\n",
      " 5   Experience     88 non-null     int64 \n",
      " 6   Salary         88 non-null     int64 \n",
      " 7   Adress         88 non-null     object\n",
      " 8   PrefLocation   88 non-null     object\n",
      "dtypes: int64(3), object(6)\n",
      "memory usage: 6.3+ KB\n"
     ]
    }
   ],
   "source": [
    "data.info() # To find information about the DataFrame"
   ]
  },
  {
   "cell_type": "code",
   "execution_count": 74,
   "id": "cb0410a8",
   "metadata": {},
   "outputs": [
    {
     "data": {
      "text/plain": [
       "Name             object\n",
       "Age               int64\n",
       "Qualification    object\n",
       "Stream           object\n",
       "Title            object\n",
       "Experience        int64\n",
       "Salary            int64\n",
       "Adress           object\n",
       "PrefLocation     object\n",
       "dtype: object"
      ]
     },
     "execution_count": 74,
     "metadata": {},
     "output_type": "execute_result"
    }
   ],
   "source": [
    "data.dtypes  # To find information of the DataFrame"
   ]
  },
  {
   "cell_type": "code",
   "execution_count": 72,
   "id": "b97ffe55",
   "metadata": {},
   "outputs": [
    {
     "name": "stdout",
     "output_type": "stream",
     "text": [
      "<class 'pandas.core.frame.DataFrame'>\n",
      "Index: 3 entries, Nokia to Samsung\n",
      "Data columns (total 2 columns):\n",
      " #   Column  Non-Null Count  Dtype \n",
      "---  ------  --------------  ----- \n",
      " 0   Item    3 non-null      object\n",
      " 1   Price   3 non-null      int64 \n",
      "dtypes: int64(1), object(1)\n",
      "memory usage: 72.0+ bytes\n"
     ]
    }
   ],
   "source": [
    "df.info()"
   ]
  },
  {
   "cell_type": "code",
   "execution_count": 73,
   "id": "ed4d0b01",
   "metadata": {},
   "outputs": [
    {
     "data": {
      "text/plain": [
       "Item     object\n",
       "Price     int64\n",
       "dtype: object"
      ]
     },
     "execution_count": 73,
     "metadata": {},
     "output_type": "execute_result"
    }
   ],
   "source": [
    "df.dtypes"
   ]
  },
  {
   "cell_type": "code",
   "execution_count": 76,
   "id": "6e2234d8",
   "metadata": {},
   "outputs": [
    {
     "data": {
      "text/plain": [
       "100000"
      ]
     },
     "execution_count": 76,
     "metadata": {},
     "output_type": "execute_result"
    }
   ],
   "source": [
    "data['Salary'].max()"
   ]
  },
  {
   "cell_type": "code",
   "execution_count": 77,
   "id": "25355679",
   "metadata": {},
   "outputs": [
    {
     "data": {
      "text/plain": [
       "31"
      ]
     },
     "execution_count": 77,
     "metadata": {},
     "output_type": "execute_result"
    }
   ],
   "source": [
    "data.Age.max()"
   ]
  },
  {
   "cell_type": "code",
   "execution_count": 79,
   "id": "fcff900f",
   "metadata": {},
   "outputs": [
    {
     "data": {
      "text/html": [
       "<div>\n",
       "<style scoped>\n",
       "    .dataframe tbody tr th:only-of-type {\n",
       "        vertical-align: middle;\n",
       "    }\n",
       "\n",
       "    .dataframe tbody tr th {\n",
       "        vertical-align: top;\n",
       "    }\n",
       "\n",
       "    .dataframe thead th {\n",
       "        text-align: right;\n",
       "    }\n",
       "</style>\n",
       "<table border=\"1\" class=\"dataframe\">\n",
       "  <thead>\n",
       "    <tr style=\"text-align: right;\">\n",
       "      <th></th>\n",
       "      <th>Name</th>\n",
       "      <th>Age</th>\n",
       "      <th>Qualification</th>\n",
       "      <th>Stream</th>\n",
       "      <th>Title</th>\n",
       "      <th>Experience</th>\n",
       "      <th>Salary</th>\n",
       "      <th>Adress</th>\n",
       "      <th>PrefLocation</th>\n",
       "    </tr>\n",
       "  </thead>\n",
       "  <tbody>\n",
       "    <tr>\n",
       "      <th>7</th>\n",
       "      <td>Joshy Kuruvila</td>\n",
       "      <td>31</td>\n",
       "      <td>MBBS</td>\n",
       "      <td>Medicine</td>\n",
       "      <td>Doctor</td>\n",
       "      <td>10</td>\n",
       "      <td>100000</td>\n",
       "      <td>K.M.K Jn, N.Paravur Ezhikkara Ernakulam 683513</td>\n",
       "      <td>Ernakulam</td>\n",
       "    </tr>\n",
       "  </tbody>\n",
       "</table>\n",
       "</div>"
      ],
      "text/plain": [
       "             Name  Age Qualification    Stream   Title  Experience  Salary  \\\n",
       "7  Joshy Kuruvila   31          MBBS  Medicine  Doctor          10  100000   \n",
       "\n",
       "                                           Adress PrefLocation  \n",
       "7  K.M.K Jn, N.Paravur Ezhikkara Ernakulam 683513    Ernakulam  "
      ]
     },
     "execution_count": 79,
     "metadata": {},
     "output_type": "execute_result"
    }
   ],
   "source": [
    "data[data[\"Salary\"]==data.Salary.max()] # Works from right to left"
   ]
  },
  {
   "cell_type": "code",
   "execution_count": 82,
   "id": "c93af0a4",
   "metadata": {},
   "outputs": [
    {
     "data": {
      "text/plain": [
       "7    Joshy Kuruvila\n",
       "Name: Name, dtype: object"
      ]
     },
     "execution_count": 82,
     "metadata": {},
     "output_type": "execute_result"
    }
   ],
   "source": [
    "data[\"Name\"][data[\"Salary\"]==data.Salary.max()]"
   ]
  },
  {
   "cell_type": "code",
   "execution_count": 83,
   "id": "7f7243ef",
   "metadata": {},
   "outputs": [
    {
     "data": {
      "text/plain": [
       "64          Nj Goerge\n",
       "69    Vishakh V. Nair\n",
       "82          Jayadevan\n",
       "Name: Name, dtype: object"
      ]
     },
     "execution_count": 83,
     "metadata": {},
     "output_type": "execute_result"
    }
   ],
   "source": [
    "data[\"Name\"][data[\"Salary\"]==data.Salary.min()]"
   ]
  },
  {
   "cell_type": "code",
   "execution_count": 9,
   "id": "b33f9973",
   "metadata": {},
   "outputs": [],
   "source": [
    "num = data.shape[0]"
   ]
  },
  {
   "cell_type": "code",
   "execution_count": 10,
   "id": "07a73747",
   "metadata": {},
   "outputs": [
    {
     "data": {
      "text/plain": [
       "float"
      ]
     },
     "execution_count": 10,
     "metadata": {},
     "output_type": "execute_result"
    }
   ],
   "source": [
    "type(num * 0.5)"
   ]
  },
  {
   "cell_type": "code",
   "execution_count": 11,
   "id": "2c833050",
   "metadata": {},
   "outputs": [],
   "source": [
    "# NaN : Not a Number"
   ]
  },
  {
   "cell_type": "code",
   "execution_count": 14,
   "id": "122086fe",
   "metadata": {},
   "outputs": [
    {
     "data": {
      "text/html": [
       "<div>\n",
       "<style scoped>\n",
       "    .dataframe tbody tr th:only-of-type {\n",
       "        vertical-align: middle;\n",
       "    }\n",
       "\n",
       "    .dataframe tbody tr th {\n",
       "        vertical-align: top;\n",
       "    }\n",
       "\n",
       "    .dataframe thead th {\n",
       "        text-align: right;\n",
       "    }\n",
       "</style>\n",
       "<table border=\"1\" class=\"dataframe\">\n",
       "  <thead>\n",
       "    <tr style=\"text-align: right;\">\n",
       "      <th></th>\n",
       "      <th>Name</th>\n",
       "      <th>Age</th>\n",
       "      <th>Qualification</th>\n",
       "      <th>Stream</th>\n",
       "      <th>Title</th>\n",
       "      <th>Experience</th>\n",
       "      <th>Salary</th>\n",
       "      <th>Adress</th>\n",
       "      <th>PrefLocation</th>\n",
       "    </tr>\n",
       "  </thead>\n",
       "  <tbody>\n",
       "    <tr>\n",
       "      <th>0</th>\n",
       "      <td>Neon Prabhakar</td>\n",
       "      <td>22</td>\n",
       "      <td>Bcom</td>\n",
       "      <td>Commerce</td>\n",
       "      <td>Executive</td>\n",
       "      <td>1</td>\n",
       "      <td>12000</td>\n",
       "      <td>East Kadungallur, Near Uc Colleage Desom Ernak...</td>\n",
       "      <td>Ernakulam</td>\n",
       "    </tr>\n",
       "    <tr>\n",
       "      <th>1</th>\n",
       "      <td>R Gopalakrishnan</td>\n",
       "      <td>23</td>\n",
       "      <td>BBA</td>\n",
       "      <td>Administratio</td>\n",
       "      <td>Executive</td>\n",
       "      <td>2</td>\n",
       "      <td>12000</td>\n",
       "      <td>Lakshmi Priya 7 / 39 B Muthu Vayal Kizhakkepur...</td>\n",
       "      <td>Ernakulam</td>\n",
       "    </tr>\n",
       "    <tr>\n",
       "      <th>2</th>\n",
       "      <td>Pratik Kala</td>\n",
       "      <td>22</td>\n",
       "      <td>LLB</td>\n",
       "      <td>Lawyer</td>\n",
       "      <td>Advocate</td>\n",
       "      <td>1</td>\n",
       "      <td>13000</td>\n",
       "      <td>Ledu Vilam, Parambil House, Near Kitchen Zaika...</td>\n",
       "      <td>Ernakulam</td>\n",
       "    </tr>\n",
       "    <tr>\n",
       "      <th>3</th>\n",
       "      <td>Nanda Kumar</td>\n",
       "      <td>24</td>\n",
       "      <td>BSc</td>\n",
       "      <td>Software</td>\n",
       "      <td>Developer</td>\n",
       "      <td>3</td>\n",
       "      <td>35000</td>\n",
       "      <td>Munthottu House Vkt Po Tholakkal Kochi Bharath...</td>\n",
       "      <td>Thrissur</td>\n",
       "    </tr>\n",
       "    <tr>\n",
       "      <th>4</th>\n",
       "      <td>Siju John</td>\n",
       "      <td>25</td>\n",
       "      <td>MCA</td>\n",
       "      <td>Software</td>\n",
       "      <td>Developer</td>\n",
       "      <td>4</td>\n",
       "      <td>35000</td>\n",
       "      <td>Vidhayathil House Attupuram Airoor Ernakulam A...</td>\n",
       "      <td>Ernakulam</td>\n",
       "    </tr>\n",
       "    <tr>\n",
       "      <th>...</th>\n",
       "      <td>...</td>\n",
       "      <td>...</td>\n",
       "      <td>...</td>\n",
       "      <td>...</td>\n",
       "      <td>...</td>\n",
       "      <td>...</td>\n",
       "      <td>...</td>\n",
       "      <td>...</td>\n",
       "      <td>...</td>\n",
       "    </tr>\n",
       "    <tr>\n",
       "      <th>83</th>\n",
       "      <td>Jesfy Joseph</td>\n",
       "      <td>24</td>\n",
       "      <td>BSc</td>\n",
       "      <td>Software</td>\n",
       "      <td>Developer</td>\n",
       "      <td>3</td>\n",
       "      <td>35000</td>\n",
       "      <td>Parattu House Thuruthu Aluva Aluva Ernakulam 6...</td>\n",
       "      <td>Thrissur</td>\n",
       "    </tr>\n",
       "    <tr>\n",
       "      <th>84</th>\n",
       "      <td>Sanulal</td>\n",
       "      <td>25</td>\n",
       "      <td>MCA</td>\n",
       "      <td>Software</td>\n",
       "      <td>Developer</td>\n",
       "      <td>4</td>\n",
       "      <td>35000</td>\n",
       "      <td>63/Nandanam Edapali Edapally Ernakulam 682024</td>\n",
       "      <td>Thrissur</td>\n",
       "    </tr>\n",
       "    <tr>\n",
       "      <th>85</th>\n",
       "      <td>Syamlal</td>\n",
       "      <td>27</td>\n",
       "      <td>BBA</td>\n",
       "      <td>Administratio</td>\n",
       "      <td>Executive</td>\n",
       "      <td>6</td>\n",
       "      <td>12000</td>\n",
       "      <td>Pattathil Ho Vidyanagar Kadavanthra Kadavantha...</td>\n",
       "      <td>Thrissur</td>\n",
       "    </tr>\n",
       "    <tr>\n",
       "      <th>86</th>\n",
       "      <td>Sreeram Devarajan</td>\n",
       "      <td>27</td>\n",
       "      <td>MBA</td>\n",
       "      <td>Administratio</td>\n",
       "      <td>Manager</td>\n",
       "      <td>6</td>\n",
       "      <td>25000</td>\n",
       "      <td>Kalathilparambil House,Elamakara,Puthukalotam ...</td>\n",
       "      <td>Thrissur</td>\n",
       "    </tr>\n",
       "    <tr>\n",
       "      <th>87</th>\n",
       "      <td>Usha Raj</td>\n",
       "      <td>25</td>\n",
       "      <td>MBBS</td>\n",
       "      <td>Medicine</td>\n",
       "      <td>Doctor</td>\n",
       "      <td>4</td>\n",
       "      <td>45000</td>\n",
       "      <td>Vadakedath House,Nethaji Road Aluva Aluva Erna...</td>\n",
       "      <td>Thrissur</td>\n",
       "    </tr>\n",
       "  </tbody>\n",
       "</table>\n",
       "<p>88 rows × 9 columns</p>\n",
       "</div>"
      ],
      "text/plain": [
       "                 Name  Age Qualification         Stream      Title  \\\n",
       "0      Neon Prabhakar   22          Bcom       Commerce  Executive   \n",
       "1    R Gopalakrishnan   23           BBA  Administratio  Executive   \n",
       "2         Pratik Kala   22           LLB         Lawyer   Advocate   \n",
       "3         Nanda Kumar   24           BSc       Software  Developer   \n",
       "4           Siju John   25           MCA       Software  Developer   \n",
       "..                ...  ...           ...            ...        ...   \n",
       "83       Jesfy Joseph   24           BSc       Software  Developer   \n",
       "84            Sanulal   25           MCA       Software  Developer   \n",
       "85            Syamlal   27           BBA  Administratio  Executive   \n",
       "86  Sreeram Devarajan   27           MBA  Administratio    Manager   \n",
       "87           Usha Raj   25          MBBS       Medicine     Doctor   \n",
       "\n",
       "    Experience  Salary                                             Adress  \\\n",
       "0            1   12000  East Kadungallur, Near Uc Colleage Desom Ernak...   \n",
       "1            2   12000  Lakshmi Priya 7 / 39 B Muthu Vayal Kizhakkepur...   \n",
       "2            1   13000  Ledu Vilam, Parambil House, Near Kitchen Zaika...   \n",
       "3            3   35000  Munthottu House Vkt Po Tholakkal Kochi Bharath...   \n",
       "4            4   35000  Vidhayathil House Attupuram Airoor Ernakulam A...   \n",
       "..         ...     ...                                                ...   \n",
       "83           3   35000  Parattu House Thuruthu Aluva Aluva Ernakulam 6...   \n",
       "84           4   35000      63/Nandanam Edapali Edapally Ernakulam 682024   \n",
       "85           6   12000  Pattathil Ho Vidyanagar Kadavanthra Kadavantha...   \n",
       "86           6   25000  Kalathilparambil House,Elamakara,Puthukalotam ...   \n",
       "87           4   45000  Vadakedath House,Nethaji Road Aluva Aluva Erna...   \n",
       "\n",
       "   PrefLocation  \n",
       "0     Ernakulam  \n",
       "1     Ernakulam  \n",
       "2     Ernakulam  \n",
       "3      Thrissur  \n",
       "4     Ernakulam  \n",
       "..          ...  \n",
       "83     Thrissur  \n",
       "84     Thrissur  \n",
       "85     Thrissur  \n",
       "86     Thrissur  \n",
       "87     Thrissur  \n",
       "\n",
       "[88 rows x 9 columns]"
      ]
     },
     "execution_count": 14,
     "metadata": {},
     "output_type": "execute_result"
    }
   ],
   "source": [
    "data.fillna(0)  # Sets null values to 0.dar"
   ]
  },
  {
   "cell_type": "code",
   "execution_count": 15,
   "id": "0b7b07ba",
   "metadata": {},
   "outputs": [
    {
     "data": {
      "text/html": [
       "<div>\n",
       "<style scoped>\n",
       "    .dataframe tbody tr th:only-of-type {\n",
       "        vertical-align: middle;\n",
       "    }\n",
       "\n",
       "    .dataframe tbody tr th {\n",
       "        vertical-align: top;\n",
       "    }\n",
       "\n",
       "    .dataframe thead th {\n",
       "        text-align: right;\n",
       "    }\n",
       "</style>\n",
       "<table border=\"1\" class=\"dataframe\">\n",
       "  <thead>\n",
       "    <tr style=\"text-align: right;\">\n",
       "      <th></th>\n",
       "      <th>Name</th>\n",
       "      <th>Age</th>\n",
       "      <th>Qualification</th>\n",
       "      <th>Stream</th>\n",
       "      <th>Title</th>\n",
       "      <th>Experience</th>\n",
       "      <th>Salary</th>\n",
       "      <th>Adress</th>\n",
       "      <th>PrefLocation</th>\n",
       "    </tr>\n",
       "  </thead>\n",
       "  <tbody>\n",
       "    <tr>\n",
       "      <th>0</th>\n",
       "      <td>Neon Prabhakar</td>\n",
       "      <td>22</td>\n",
       "      <td>Bcom</td>\n",
       "      <td>Commerce</td>\n",
       "      <td>Executive</td>\n",
       "      <td>1</td>\n",
       "      <td>12000</td>\n",
       "      <td>East Kadungallur, Near Uc Colleage Desom Ernak...</td>\n",
       "      <td>Ernakulam</td>\n",
       "    </tr>\n",
       "    <tr>\n",
       "      <th>1</th>\n",
       "      <td>R Gopalakrishnan</td>\n",
       "      <td>23</td>\n",
       "      <td>BBA</td>\n",
       "      <td>Administratio</td>\n",
       "      <td>Executive</td>\n",
       "      <td>2</td>\n",
       "      <td>12000</td>\n",
       "      <td>Lakshmi Priya 7 / 39 B Muthu Vayal Kizhakkepur...</td>\n",
       "      <td>Ernakulam</td>\n",
       "    </tr>\n",
       "    <tr>\n",
       "      <th>2</th>\n",
       "      <td>Pratik Kala</td>\n",
       "      <td>22</td>\n",
       "      <td>LLB</td>\n",
       "      <td>Lawyer</td>\n",
       "      <td>Advocate</td>\n",
       "      <td>1</td>\n",
       "      <td>13000</td>\n",
       "      <td>Ledu Vilam, Parambil House, Near Kitchen Zaika...</td>\n",
       "      <td>Ernakulam</td>\n",
       "    </tr>\n",
       "    <tr>\n",
       "      <th>3</th>\n",
       "      <td>Nanda Kumar</td>\n",
       "      <td>24</td>\n",
       "      <td>BSc</td>\n",
       "      <td>Software</td>\n",
       "      <td>Developer</td>\n",
       "      <td>3</td>\n",
       "      <td>35000</td>\n",
       "      <td>Munthottu House Vkt Po Tholakkal Kochi Bharath...</td>\n",
       "      <td>Thrissur</td>\n",
       "    </tr>\n",
       "    <tr>\n",
       "      <th>4</th>\n",
       "      <td>Siju John</td>\n",
       "      <td>25</td>\n",
       "      <td>MCA</td>\n",
       "      <td>Software</td>\n",
       "      <td>Developer</td>\n",
       "      <td>4</td>\n",
       "      <td>35000</td>\n",
       "      <td>Vidhayathil House Attupuram Airoor Ernakulam A...</td>\n",
       "      <td>Ernakulam</td>\n",
       "    </tr>\n",
       "    <tr>\n",
       "      <th>...</th>\n",
       "      <td>...</td>\n",
       "      <td>...</td>\n",
       "      <td>...</td>\n",
       "      <td>...</td>\n",
       "      <td>...</td>\n",
       "      <td>...</td>\n",
       "      <td>...</td>\n",
       "      <td>...</td>\n",
       "      <td>...</td>\n",
       "    </tr>\n",
       "    <tr>\n",
       "      <th>83</th>\n",
       "      <td>Jesfy Joseph</td>\n",
       "      <td>24</td>\n",
       "      <td>BSc</td>\n",
       "      <td>Software</td>\n",
       "      <td>Developer</td>\n",
       "      <td>3</td>\n",
       "      <td>35000</td>\n",
       "      <td>Parattu House Thuruthu Aluva Aluva Ernakulam 6...</td>\n",
       "      <td>Thrissur</td>\n",
       "    </tr>\n",
       "    <tr>\n",
       "      <th>84</th>\n",
       "      <td>Sanulal</td>\n",
       "      <td>25</td>\n",
       "      <td>MCA</td>\n",
       "      <td>Software</td>\n",
       "      <td>Developer</td>\n",
       "      <td>4</td>\n",
       "      <td>35000</td>\n",
       "      <td>63/Nandanam Edapali Edapally Ernakulam 682024</td>\n",
       "      <td>Thrissur</td>\n",
       "    </tr>\n",
       "    <tr>\n",
       "      <th>85</th>\n",
       "      <td>Syamlal</td>\n",
       "      <td>27</td>\n",
       "      <td>BBA</td>\n",
       "      <td>Administratio</td>\n",
       "      <td>Executive</td>\n",
       "      <td>6</td>\n",
       "      <td>12000</td>\n",
       "      <td>Pattathil Ho Vidyanagar Kadavanthra Kadavantha...</td>\n",
       "      <td>Thrissur</td>\n",
       "    </tr>\n",
       "    <tr>\n",
       "      <th>86</th>\n",
       "      <td>Sreeram Devarajan</td>\n",
       "      <td>27</td>\n",
       "      <td>MBA</td>\n",
       "      <td>Administratio</td>\n",
       "      <td>Manager</td>\n",
       "      <td>6</td>\n",
       "      <td>25000</td>\n",
       "      <td>Kalathilparambil House,Elamakara,Puthukalotam ...</td>\n",
       "      <td>Thrissur</td>\n",
       "    </tr>\n",
       "    <tr>\n",
       "      <th>87</th>\n",
       "      <td>Usha Raj</td>\n",
       "      <td>25</td>\n",
       "      <td>MBBS</td>\n",
       "      <td>Medicine</td>\n",
       "      <td>Doctor</td>\n",
       "      <td>4</td>\n",
       "      <td>45000</td>\n",
       "      <td>Vadakedath House,Nethaji Road Aluva Aluva Erna...</td>\n",
       "      <td>Thrissur</td>\n",
       "    </tr>\n",
       "  </tbody>\n",
       "</table>\n",
       "<p>88 rows × 9 columns</p>\n",
       "</div>"
      ],
      "text/plain": [
       "                 Name  Age Qualification         Stream      Title  \\\n",
       "0      Neon Prabhakar   22          Bcom       Commerce  Executive   \n",
       "1    R Gopalakrishnan   23           BBA  Administratio  Executive   \n",
       "2         Pratik Kala   22           LLB         Lawyer   Advocate   \n",
       "3         Nanda Kumar   24           BSc       Software  Developer   \n",
       "4           Siju John   25           MCA       Software  Developer   \n",
       "..                ...  ...           ...            ...        ...   \n",
       "83       Jesfy Joseph   24           BSc       Software  Developer   \n",
       "84            Sanulal   25           MCA       Software  Developer   \n",
       "85            Syamlal   27           BBA  Administratio  Executive   \n",
       "86  Sreeram Devarajan   27           MBA  Administratio    Manager   \n",
       "87           Usha Raj   25          MBBS       Medicine     Doctor   \n",
       "\n",
       "    Experience  Salary                                             Adress  \\\n",
       "0            1   12000  East Kadungallur, Near Uc Colleage Desom Ernak...   \n",
       "1            2   12000  Lakshmi Priya 7 / 39 B Muthu Vayal Kizhakkepur...   \n",
       "2            1   13000  Ledu Vilam, Parambil House, Near Kitchen Zaika...   \n",
       "3            3   35000  Munthottu House Vkt Po Tholakkal Kochi Bharath...   \n",
       "4            4   35000  Vidhayathil House Attupuram Airoor Ernakulam A...   \n",
       "..         ...     ...                                                ...   \n",
       "83           3   35000  Parattu House Thuruthu Aluva Aluva Ernakulam 6...   \n",
       "84           4   35000      63/Nandanam Edapali Edapally Ernakulam 682024   \n",
       "85           6   12000  Pattathil Ho Vidyanagar Kadavanthra Kadavantha...   \n",
       "86           6   25000  Kalathilparambil House,Elamakara,Puthukalotam ...   \n",
       "87           4   45000  Vadakedath House,Nethaji Road Aluva Aluva Erna...   \n",
       "\n",
       "   PrefLocation  \n",
       "0     Ernakulam  \n",
       "1     Ernakulam  \n",
       "2     Ernakulam  \n",
       "3      Thrissur  \n",
       "4     Ernakulam  \n",
       "..          ...  \n",
       "83     Thrissur  \n",
       "84     Thrissur  \n",
       "85     Thrissur  \n",
       "86     Thrissur  \n",
       "87     Thrissur  \n",
       "\n",
       "[88 rows x 9 columns]"
      ]
     },
     "execution_count": 15,
     "metadata": {},
     "output_type": "execute_result"
    }
   ],
   "source": [
    "data.fillna(method = \"ffill\")  # Forward fill"
   ]
  },
  {
   "cell_type": "code",
   "execution_count": 16,
   "id": "e7342859",
   "metadata": {},
   "outputs": [
    {
     "data": {
      "text/html": [
       "<div>\n",
       "<style scoped>\n",
       "    .dataframe tbody tr th:only-of-type {\n",
       "        vertical-align: middle;\n",
       "    }\n",
       "\n",
       "    .dataframe tbody tr th {\n",
       "        vertical-align: top;\n",
       "    }\n",
       "\n",
       "    .dataframe thead th {\n",
       "        text-align: right;\n",
       "    }\n",
       "</style>\n",
       "<table border=\"1\" class=\"dataframe\">\n",
       "  <thead>\n",
       "    <tr style=\"text-align: right;\">\n",
       "      <th></th>\n",
       "      <th>Name</th>\n",
       "      <th>Age</th>\n",
       "      <th>Qualification</th>\n",
       "      <th>Stream</th>\n",
       "      <th>Title</th>\n",
       "      <th>Experience</th>\n",
       "      <th>Salary</th>\n",
       "      <th>Adress</th>\n",
       "      <th>PrefLocation</th>\n",
       "    </tr>\n",
       "  </thead>\n",
       "  <tbody>\n",
       "    <tr>\n",
       "      <th>0</th>\n",
       "      <td>Neon Prabhakar</td>\n",
       "      <td>22</td>\n",
       "      <td>Bcom</td>\n",
       "      <td>Commerce</td>\n",
       "      <td>Executive</td>\n",
       "      <td>1</td>\n",
       "      <td>12000</td>\n",
       "      <td>East Kadungallur, Near Uc Colleage Desom Ernak...</td>\n",
       "      <td>Ernakulam</td>\n",
       "    </tr>\n",
       "    <tr>\n",
       "      <th>1</th>\n",
       "      <td>R Gopalakrishnan</td>\n",
       "      <td>23</td>\n",
       "      <td>BBA</td>\n",
       "      <td>Administratio</td>\n",
       "      <td>Executive</td>\n",
       "      <td>2</td>\n",
       "      <td>12000</td>\n",
       "      <td>Lakshmi Priya 7 / 39 B Muthu Vayal Kizhakkepur...</td>\n",
       "      <td>Ernakulam</td>\n",
       "    </tr>\n",
       "    <tr>\n",
       "      <th>2</th>\n",
       "      <td>Pratik Kala</td>\n",
       "      <td>22</td>\n",
       "      <td>LLB</td>\n",
       "      <td>Lawyer</td>\n",
       "      <td>Advocate</td>\n",
       "      <td>1</td>\n",
       "      <td>13000</td>\n",
       "      <td>Ledu Vilam, Parambil House, Near Kitchen Zaika...</td>\n",
       "      <td>Ernakulam</td>\n",
       "    </tr>\n",
       "    <tr>\n",
       "      <th>3</th>\n",
       "      <td>Nanda Kumar</td>\n",
       "      <td>24</td>\n",
       "      <td>BSc</td>\n",
       "      <td>Software</td>\n",
       "      <td>Developer</td>\n",
       "      <td>3</td>\n",
       "      <td>35000</td>\n",
       "      <td>Munthottu House Vkt Po Tholakkal Kochi Bharath...</td>\n",
       "      <td>Thrissur</td>\n",
       "    </tr>\n",
       "    <tr>\n",
       "      <th>4</th>\n",
       "      <td>Siju John</td>\n",
       "      <td>25</td>\n",
       "      <td>MCA</td>\n",
       "      <td>Software</td>\n",
       "      <td>Developer</td>\n",
       "      <td>4</td>\n",
       "      <td>35000</td>\n",
       "      <td>Vidhayathil House Attupuram Airoor Ernakulam A...</td>\n",
       "      <td>Ernakulam</td>\n",
       "    </tr>\n",
       "    <tr>\n",
       "      <th>...</th>\n",
       "      <td>...</td>\n",
       "      <td>...</td>\n",
       "      <td>...</td>\n",
       "      <td>...</td>\n",
       "      <td>...</td>\n",
       "      <td>...</td>\n",
       "      <td>...</td>\n",
       "      <td>...</td>\n",
       "      <td>...</td>\n",
       "    </tr>\n",
       "    <tr>\n",
       "      <th>83</th>\n",
       "      <td>Jesfy Joseph</td>\n",
       "      <td>24</td>\n",
       "      <td>BSc</td>\n",
       "      <td>Software</td>\n",
       "      <td>Developer</td>\n",
       "      <td>3</td>\n",
       "      <td>35000</td>\n",
       "      <td>Parattu House Thuruthu Aluva Aluva Ernakulam 6...</td>\n",
       "      <td>Thrissur</td>\n",
       "    </tr>\n",
       "    <tr>\n",
       "      <th>84</th>\n",
       "      <td>Sanulal</td>\n",
       "      <td>25</td>\n",
       "      <td>MCA</td>\n",
       "      <td>Software</td>\n",
       "      <td>Developer</td>\n",
       "      <td>4</td>\n",
       "      <td>35000</td>\n",
       "      <td>63/Nandanam Edapali Edapally Ernakulam 682024</td>\n",
       "      <td>Thrissur</td>\n",
       "    </tr>\n",
       "    <tr>\n",
       "      <th>85</th>\n",
       "      <td>Syamlal</td>\n",
       "      <td>27</td>\n",
       "      <td>BBA</td>\n",
       "      <td>Administratio</td>\n",
       "      <td>Executive</td>\n",
       "      <td>6</td>\n",
       "      <td>12000</td>\n",
       "      <td>Pattathil Ho Vidyanagar Kadavanthra Kadavantha...</td>\n",
       "      <td>Thrissur</td>\n",
       "    </tr>\n",
       "    <tr>\n",
       "      <th>86</th>\n",
       "      <td>Sreeram Devarajan</td>\n",
       "      <td>27</td>\n",
       "      <td>MBA</td>\n",
       "      <td>Administratio</td>\n",
       "      <td>Manager</td>\n",
       "      <td>6</td>\n",
       "      <td>25000</td>\n",
       "      <td>Kalathilparambil House,Elamakara,Puthukalotam ...</td>\n",
       "      <td>Thrissur</td>\n",
       "    </tr>\n",
       "    <tr>\n",
       "      <th>87</th>\n",
       "      <td>Usha Raj</td>\n",
       "      <td>25</td>\n",
       "      <td>MBBS</td>\n",
       "      <td>Medicine</td>\n",
       "      <td>Doctor</td>\n",
       "      <td>4</td>\n",
       "      <td>45000</td>\n",
       "      <td>Vadakedath House,Nethaji Road Aluva Aluva Erna...</td>\n",
       "      <td>Thrissur</td>\n",
       "    </tr>\n",
       "  </tbody>\n",
       "</table>\n",
       "<p>88 rows × 9 columns</p>\n",
       "</div>"
      ],
      "text/plain": [
       "                 Name  Age Qualification         Stream      Title  \\\n",
       "0      Neon Prabhakar   22          Bcom       Commerce  Executive   \n",
       "1    R Gopalakrishnan   23           BBA  Administratio  Executive   \n",
       "2         Pratik Kala   22           LLB         Lawyer   Advocate   \n",
       "3         Nanda Kumar   24           BSc       Software  Developer   \n",
       "4           Siju John   25           MCA       Software  Developer   \n",
       "..                ...  ...           ...            ...        ...   \n",
       "83       Jesfy Joseph   24           BSc       Software  Developer   \n",
       "84            Sanulal   25           MCA       Software  Developer   \n",
       "85            Syamlal   27           BBA  Administratio  Executive   \n",
       "86  Sreeram Devarajan   27           MBA  Administratio    Manager   \n",
       "87           Usha Raj   25          MBBS       Medicine     Doctor   \n",
       "\n",
       "    Experience  Salary                                             Adress  \\\n",
       "0            1   12000  East Kadungallur, Near Uc Colleage Desom Ernak...   \n",
       "1            2   12000  Lakshmi Priya 7 / 39 B Muthu Vayal Kizhakkepur...   \n",
       "2            1   13000  Ledu Vilam, Parambil House, Near Kitchen Zaika...   \n",
       "3            3   35000  Munthottu House Vkt Po Tholakkal Kochi Bharath...   \n",
       "4            4   35000  Vidhayathil House Attupuram Airoor Ernakulam A...   \n",
       "..         ...     ...                                                ...   \n",
       "83           3   35000  Parattu House Thuruthu Aluva Aluva Ernakulam 6...   \n",
       "84           4   35000      63/Nandanam Edapali Edapally Ernakulam 682024   \n",
       "85           6   12000  Pattathil Ho Vidyanagar Kadavanthra Kadavantha...   \n",
       "86           6   25000  Kalathilparambil House,Elamakara,Puthukalotam ...   \n",
       "87           4   45000  Vadakedath House,Nethaji Road Aluva Aluva Erna...   \n",
       "\n",
       "   PrefLocation  \n",
       "0     Ernakulam  \n",
       "1     Ernakulam  \n",
       "2     Ernakulam  \n",
       "3      Thrissur  \n",
       "4     Ernakulam  \n",
       "..          ...  \n",
       "83     Thrissur  \n",
       "84     Thrissur  \n",
       "85     Thrissur  \n",
       "86     Thrissur  \n",
       "87     Thrissur  \n",
       "\n",
       "[88 rows x 9 columns]"
      ]
     },
     "execution_count": 16,
     "metadata": {},
     "output_type": "execute_result"
    }
   ],
   "source": [
    "data.fillna(method = \"bfill\")  # Backward fill"
   ]
  },
  {
   "cell_type": "code",
   "execution_count": 17,
   "id": "a066272b",
   "metadata": {},
   "outputs": [
    {
     "data": {
      "text/html": [
       "<div>\n",
       "<style scoped>\n",
       "    .dataframe tbody tr th:only-of-type {\n",
       "        vertical-align: middle;\n",
       "    }\n",
       "\n",
       "    .dataframe tbody tr th {\n",
       "        vertical-align: top;\n",
       "    }\n",
       "\n",
       "    .dataframe thead th {\n",
       "        text-align: right;\n",
       "    }\n",
       "</style>\n",
       "<table border=\"1\" class=\"dataframe\">\n",
       "  <thead>\n",
       "    <tr style=\"text-align: right;\">\n",
       "      <th></th>\n",
       "      <th>Name</th>\n",
       "      <th>Age</th>\n",
       "      <th>Qualification</th>\n",
       "      <th>Stream</th>\n",
       "      <th>Title</th>\n",
       "      <th>Experience</th>\n",
       "      <th>Salary</th>\n",
       "      <th>Adress</th>\n",
       "      <th>PrefLocation</th>\n",
       "    </tr>\n",
       "  </thead>\n",
       "  <tbody>\n",
       "    <tr>\n",
       "      <th>0</th>\n",
       "      <td>Neon Prabhakar</td>\n",
       "      <td>22</td>\n",
       "      <td>Bcom</td>\n",
       "      <td>Commerce</td>\n",
       "      <td>Executive</td>\n",
       "      <td>1</td>\n",
       "      <td>12000</td>\n",
       "      <td>East Kadungallur, Near Uc Colleage Desom Ernak...</td>\n",
       "      <td>Ernakulam</td>\n",
       "    </tr>\n",
       "    <tr>\n",
       "      <th>1</th>\n",
       "      <td>R Gopalakrishnan</td>\n",
       "      <td>23</td>\n",
       "      <td>BBA</td>\n",
       "      <td>Administratio</td>\n",
       "      <td>Executive</td>\n",
       "      <td>2</td>\n",
       "      <td>12000</td>\n",
       "      <td>Lakshmi Priya 7 / 39 B Muthu Vayal Kizhakkepur...</td>\n",
       "      <td>Ernakulam</td>\n",
       "    </tr>\n",
       "    <tr>\n",
       "      <th>2</th>\n",
       "      <td>Pratik Kala</td>\n",
       "      <td>22</td>\n",
       "      <td>LLB</td>\n",
       "      <td>Lawyer</td>\n",
       "      <td>Advocate</td>\n",
       "      <td>1</td>\n",
       "      <td>13000</td>\n",
       "      <td>Ledu Vilam, Parambil House, Near Kitchen Zaika...</td>\n",
       "      <td>Ernakulam</td>\n",
       "    </tr>\n",
       "    <tr>\n",
       "      <th>3</th>\n",
       "      <td>Nanda Kumar</td>\n",
       "      <td>24</td>\n",
       "      <td>BSc</td>\n",
       "      <td>Software</td>\n",
       "      <td>Developer</td>\n",
       "      <td>3</td>\n",
       "      <td>35000</td>\n",
       "      <td>Munthottu House Vkt Po Tholakkal Kochi Bharath...</td>\n",
       "      <td>Thrissur</td>\n",
       "    </tr>\n",
       "    <tr>\n",
       "      <th>4</th>\n",
       "      <td>Siju John</td>\n",
       "      <td>25</td>\n",
       "      <td>MCA</td>\n",
       "      <td>Software</td>\n",
       "      <td>Developer</td>\n",
       "      <td>4</td>\n",
       "      <td>35000</td>\n",
       "      <td>Vidhayathil House Attupuram Airoor Ernakulam A...</td>\n",
       "      <td>Ernakulam</td>\n",
       "    </tr>\n",
       "    <tr>\n",
       "      <th>...</th>\n",
       "      <td>...</td>\n",
       "      <td>...</td>\n",
       "      <td>...</td>\n",
       "      <td>...</td>\n",
       "      <td>...</td>\n",
       "      <td>...</td>\n",
       "      <td>...</td>\n",
       "      <td>...</td>\n",
       "      <td>...</td>\n",
       "    </tr>\n",
       "    <tr>\n",
       "      <th>83</th>\n",
       "      <td>Jesfy Joseph</td>\n",
       "      <td>24</td>\n",
       "      <td>BSc</td>\n",
       "      <td>Software</td>\n",
       "      <td>Developer</td>\n",
       "      <td>3</td>\n",
       "      <td>35000</td>\n",
       "      <td>Parattu House Thuruthu Aluva Aluva Ernakulam 6...</td>\n",
       "      <td>Thrissur</td>\n",
       "    </tr>\n",
       "    <tr>\n",
       "      <th>84</th>\n",
       "      <td>Sanulal</td>\n",
       "      <td>25</td>\n",
       "      <td>MCA</td>\n",
       "      <td>Software</td>\n",
       "      <td>Developer</td>\n",
       "      <td>4</td>\n",
       "      <td>35000</td>\n",
       "      <td>63/Nandanam Edapali Edapally Ernakulam 682024</td>\n",
       "      <td>Thrissur</td>\n",
       "    </tr>\n",
       "    <tr>\n",
       "      <th>85</th>\n",
       "      <td>Syamlal</td>\n",
       "      <td>27</td>\n",
       "      <td>BBA</td>\n",
       "      <td>Administratio</td>\n",
       "      <td>Executive</td>\n",
       "      <td>6</td>\n",
       "      <td>12000</td>\n",
       "      <td>Pattathil Ho Vidyanagar Kadavanthra Kadavantha...</td>\n",
       "      <td>Thrissur</td>\n",
       "    </tr>\n",
       "    <tr>\n",
       "      <th>86</th>\n",
       "      <td>Sreeram Devarajan</td>\n",
       "      <td>27</td>\n",
       "      <td>MBA</td>\n",
       "      <td>Administratio</td>\n",
       "      <td>Manager</td>\n",
       "      <td>6</td>\n",
       "      <td>25000</td>\n",
       "      <td>Kalathilparambil House,Elamakara,Puthukalotam ...</td>\n",
       "      <td>Thrissur</td>\n",
       "    </tr>\n",
       "    <tr>\n",
       "      <th>87</th>\n",
       "      <td>Usha Raj</td>\n",
       "      <td>25</td>\n",
       "      <td>MBBS</td>\n",
       "      <td>Medicine</td>\n",
       "      <td>Doctor</td>\n",
       "      <td>4</td>\n",
       "      <td>45000</td>\n",
       "      <td>Vadakedath House,Nethaji Road Aluva Aluva Erna...</td>\n",
       "      <td>Thrissur</td>\n",
       "    </tr>\n",
       "  </tbody>\n",
       "</table>\n",
       "<p>88 rows × 9 columns</p>\n",
       "</div>"
      ],
      "text/plain": [
       "                 Name  Age Qualification         Stream      Title  \\\n",
       "0      Neon Prabhakar   22          Bcom       Commerce  Executive   \n",
       "1    R Gopalakrishnan   23           BBA  Administratio  Executive   \n",
       "2         Pratik Kala   22           LLB         Lawyer   Advocate   \n",
       "3         Nanda Kumar   24           BSc       Software  Developer   \n",
       "4           Siju John   25           MCA       Software  Developer   \n",
       "..                ...  ...           ...            ...        ...   \n",
       "83       Jesfy Joseph   24           BSc       Software  Developer   \n",
       "84            Sanulal   25           MCA       Software  Developer   \n",
       "85            Syamlal   27           BBA  Administratio  Executive   \n",
       "86  Sreeram Devarajan   27           MBA  Administratio    Manager   \n",
       "87           Usha Raj   25          MBBS       Medicine     Doctor   \n",
       "\n",
       "    Experience  Salary                                             Adress  \\\n",
       "0            1   12000  East Kadungallur, Near Uc Colleage Desom Ernak...   \n",
       "1            2   12000  Lakshmi Priya 7 / 39 B Muthu Vayal Kizhakkepur...   \n",
       "2            1   13000  Ledu Vilam, Parambil House, Near Kitchen Zaika...   \n",
       "3            3   35000  Munthottu House Vkt Po Tholakkal Kochi Bharath...   \n",
       "4            4   35000  Vidhayathil House Attupuram Airoor Ernakulam A...   \n",
       "..         ...     ...                                                ...   \n",
       "83           3   35000  Parattu House Thuruthu Aluva Aluva Ernakulam 6...   \n",
       "84           4   35000      63/Nandanam Edapali Edapally Ernakulam 682024   \n",
       "85           6   12000  Pattathil Ho Vidyanagar Kadavanthra Kadavantha...   \n",
       "86           6   25000  Kalathilparambil House,Elamakara,Puthukalotam ...   \n",
       "87           4   45000  Vadakedath House,Nethaji Road Aluva Aluva Erna...   \n",
       "\n",
       "   PrefLocation  \n",
       "0     Ernakulam  \n",
       "1     Ernakulam  \n",
       "2     Ernakulam  \n",
       "3      Thrissur  \n",
       "4     Ernakulam  \n",
       "..          ...  \n",
       "83     Thrissur  \n",
       "84     Thrissur  \n",
       "85     Thrissur  \n",
       "86     Thrissur  \n",
       "87     Thrissur  \n",
       "\n",
       "[88 rows x 9 columns]"
      ]
     },
     "execution_count": 17,
     "metadata": {},
     "output_type": "execute_result"
    }
   ],
   "source": [
    "data.dropna(how = \"any\")"
   ]
  },
  {
   "cell_type": "code",
   "execution_count": 18,
   "id": "9bde544a",
   "metadata": {},
   "outputs": [],
   "source": [
    "df = pd.read_csv(\"Jobsearchdata.csv\")"
   ]
  },
  {
   "cell_type": "code",
   "execution_count": 19,
   "id": "57a11df3",
   "metadata": {},
   "outputs": [
    {
     "data": {
      "text/html": [
       "<div>\n",
       "<style scoped>\n",
       "    .dataframe tbody tr th:only-of-type {\n",
       "        vertical-align: middle;\n",
       "    }\n",
       "\n",
       "    .dataframe tbody tr th {\n",
       "        vertical-align: top;\n",
       "    }\n",
       "\n",
       "    .dataframe thead th {\n",
       "        text-align: right;\n",
       "    }\n",
       "</style>\n",
       "<table border=\"1\" class=\"dataframe\">\n",
       "  <thead>\n",
       "    <tr style=\"text-align: right;\">\n",
       "      <th></th>\n",
       "      <th>Name</th>\n",
       "      <th>Age</th>\n",
       "      <th>Qualification</th>\n",
       "      <th>Stream</th>\n",
       "      <th>Title</th>\n",
       "      <th>Experience</th>\n",
       "      <th>Salary</th>\n",
       "      <th>Adress</th>\n",
       "      <th>PrefLocation</th>\n",
       "    </tr>\n",
       "  </thead>\n",
       "  <tbody>\n",
       "    <tr>\n",
       "      <th>0</th>\n",
       "      <td>Neon Prabhakar</td>\n",
       "      <td>22</td>\n",
       "      <td>Bcom</td>\n",
       "      <td>Commerce</td>\n",
       "      <td>Executive</td>\n",
       "      <td>1</td>\n",
       "      <td>12000</td>\n",
       "      <td>East Kadungallur, Near Uc Colleage Desom Ernak...</td>\n",
       "      <td>Ernakulam</td>\n",
       "    </tr>\n",
       "    <tr>\n",
       "      <th>1</th>\n",
       "      <td>R Gopalakrishnan</td>\n",
       "      <td>23</td>\n",
       "      <td>BBA</td>\n",
       "      <td>Administratio</td>\n",
       "      <td>Executive</td>\n",
       "      <td>2</td>\n",
       "      <td>12000</td>\n",
       "      <td>Lakshmi Priya 7 / 39 B Muthu Vayal Kizhakkepur...</td>\n",
       "      <td>Ernakulam</td>\n",
       "    </tr>\n",
       "    <tr>\n",
       "      <th>2</th>\n",
       "      <td>Pratik Kala</td>\n",
       "      <td>22</td>\n",
       "      <td>LLB</td>\n",
       "      <td>Lawyer</td>\n",
       "      <td>Advocate</td>\n",
       "      <td>1</td>\n",
       "      <td>13000</td>\n",
       "      <td>Ledu Vilam, Parambil House, Near Kitchen Zaika...</td>\n",
       "      <td>Ernakulam</td>\n",
       "    </tr>\n",
       "    <tr>\n",
       "      <th>3</th>\n",
       "      <td>Nanda Kumar</td>\n",
       "      <td>24</td>\n",
       "      <td>BSc</td>\n",
       "      <td>Software</td>\n",
       "      <td>Developer</td>\n",
       "      <td>3</td>\n",
       "      <td>35000</td>\n",
       "      <td>Munthottu House Vkt Po Tholakkal Kochi Bharath...</td>\n",
       "      <td>Thrissur</td>\n",
       "    </tr>\n",
       "    <tr>\n",
       "      <th>4</th>\n",
       "      <td>Siju John</td>\n",
       "      <td>25</td>\n",
       "      <td>MCA</td>\n",
       "      <td>Software</td>\n",
       "      <td>Developer</td>\n",
       "      <td>4</td>\n",
       "      <td>35000</td>\n",
       "      <td>Vidhayathil House Attupuram Airoor Ernakulam A...</td>\n",
       "      <td>Ernakulam</td>\n",
       "    </tr>\n",
       "    <tr>\n",
       "      <th>...</th>\n",
       "      <td>...</td>\n",
       "      <td>...</td>\n",
       "      <td>...</td>\n",
       "      <td>...</td>\n",
       "      <td>...</td>\n",
       "      <td>...</td>\n",
       "      <td>...</td>\n",
       "      <td>...</td>\n",
       "      <td>...</td>\n",
       "    </tr>\n",
       "    <tr>\n",
       "      <th>83</th>\n",
       "      <td>Jesfy Joseph</td>\n",
       "      <td>24</td>\n",
       "      <td>BSc</td>\n",
       "      <td>Software</td>\n",
       "      <td>Developer</td>\n",
       "      <td>3</td>\n",
       "      <td>35000</td>\n",
       "      <td>Parattu House Thuruthu Aluva Aluva Ernakulam 6...</td>\n",
       "      <td>Thrissur</td>\n",
       "    </tr>\n",
       "    <tr>\n",
       "      <th>84</th>\n",
       "      <td>Sanulal</td>\n",
       "      <td>25</td>\n",
       "      <td>MCA</td>\n",
       "      <td>Software</td>\n",
       "      <td>Developer</td>\n",
       "      <td>4</td>\n",
       "      <td>35000</td>\n",
       "      <td>63/Nandanam Edapali Edapally Ernakulam 682024</td>\n",
       "      <td>Thrissur</td>\n",
       "    </tr>\n",
       "    <tr>\n",
       "      <th>85</th>\n",
       "      <td>Syamlal</td>\n",
       "      <td>27</td>\n",
       "      <td>BBA</td>\n",
       "      <td>Administratio</td>\n",
       "      <td>Executive</td>\n",
       "      <td>6</td>\n",
       "      <td>12000</td>\n",
       "      <td>Pattathil Ho Vidyanagar Kadavanthra Kadavantha...</td>\n",
       "      <td>Thrissur</td>\n",
       "    </tr>\n",
       "    <tr>\n",
       "      <th>86</th>\n",
       "      <td>Sreeram Devarajan</td>\n",
       "      <td>27</td>\n",
       "      <td>MBA</td>\n",
       "      <td>Administratio</td>\n",
       "      <td>Manager</td>\n",
       "      <td>6</td>\n",
       "      <td>25000</td>\n",
       "      <td>Kalathilparambil House,Elamakara,Puthukalotam ...</td>\n",
       "      <td>Thrissur</td>\n",
       "    </tr>\n",
       "    <tr>\n",
       "      <th>87</th>\n",
       "      <td>Usha Raj</td>\n",
       "      <td>25</td>\n",
       "      <td>MBBS</td>\n",
       "      <td>Medicine</td>\n",
       "      <td>Doctor</td>\n",
       "      <td>4</td>\n",
       "      <td>45000</td>\n",
       "      <td>Vadakedath House,Nethaji Road Aluva Aluva Erna...</td>\n",
       "      <td>Thrissur</td>\n",
       "    </tr>\n",
       "  </tbody>\n",
       "</table>\n",
       "<p>88 rows × 9 columns</p>\n",
       "</div>"
      ],
      "text/plain": [
       "                 Name  Age Qualification         Stream      Title  \\\n",
       "0      Neon Prabhakar   22          Bcom       Commerce  Executive   \n",
       "1    R Gopalakrishnan   23           BBA  Administratio  Executive   \n",
       "2         Pratik Kala   22           LLB         Lawyer   Advocate   \n",
       "3         Nanda Kumar   24           BSc       Software  Developer   \n",
       "4           Siju John   25           MCA       Software  Developer   \n",
       "..                ...  ...           ...            ...        ...   \n",
       "83       Jesfy Joseph   24           BSc       Software  Developer   \n",
       "84            Sanulal   25           MCA       Software  Developer   \n",
       "85            Syamlal   27           BBA  Administratio  Executive   \n",
       "86  Sreeram Devarajan   27           MBA  Administratio    Manager   \n",
       "87           Usha Raj   25          MBBS       Medicine     Doctor   \n",
       "\n",
       "    Experience  Salary                                             Adress  \\\n",
       "0            1   12000  East Kadungallur, Near Uc Colleage Desom Ernak...   \n",
       "1            2   12000  Lakshmi Priya 7 / 39 B Muthu Vayal Kizhakkepur...   \n",
       "2            1   13000  Ledu Vilam, Parambil House, Near Kitchen Zaika...   \n",
       "3            3   35000  Munthottu House Vkt Po Tholakkal Kochi Bharath...   \n",
       "4            4   35000  Vidhayathil House Attupuram Airoor Ernakulam A...   \n",
       "..         ...     ...                                                ...   \n",
       "83           3   35000  Parattu House Thuruthu Aluva Aluva Ernakulam 6...   \n",
       "84           4   35000      63/Nandanam Edapali Edapally Ernakulam 682024   \n",
       "85           6   12000  Pattathil Ho Vidyanagar Kadavanthra Kadavantha...   \n",
       "86           6   25000  Kalathilparambil House,Elamakara,Puthukalotam ...   \n",
       "87           4   45000  Vadakedath House,Nethaji Road Aluva Aluva Erna...   \n",
       "\n",
       "   PrefLocation  \n",
       "0     Ernakulam  \n",
       "1     Ernakulam  \n",
       "2     Ernakulam  \n",
       "3      Thrissur  \n",
       "4     Ernakulam  \n",
       "..          ...  \n",
       "83     Thrissur  \n",
       "84     Thrissur  \n",
       "85     Thrissur  \n",
       "86     Thrissur  \n",
       "87     Thrissur  \n",
       "\n",
       "[88 rows x 9 columns]"
      ]
     },
     "execution_count": 19,
     "metadata": {},
     "output_type": "execute_result"
    }
   ],
   "source": [
    "df"
   ]
  },
  {
   "cell_type": "code",
   "execution_count": 20,
   "id": "97df3a43",
   "metadata": {},
   "outputs": [],
   "source": [
    "g = df.groupby(\"Name\")"
   ]
  },
  {
   "cell_type": "code",
   "execution_count": 24,
   "id": "0ea89cf1",
   "metadata": {},
   "outputs": [],
   "source": [
    "# Merging\n",
    "india = pd.DataFrame({\n",
    "    \"city\":[\"Mumbai\",\"Bangalore\",\"Cochin\"],\n",
    "    \"Temperature\":[32,32,30],\n",
    "})\n",
    "\n",
    "us = pd.DataFrame({\n",
    "    \"city\":[\"Miami\",\"New Jersey\",\"New York\"],\n",
    "    \"Windspeed\":[25,24,20],\n",
    "})"
   ]
  },
  {
   "cell_type": "markdown",
   "id": "16420769",
   "metadata": {},
   "source": [
    "# Matplotlib"
   ]
  },
  {
   "cell_type": "code",
   "execution_count": 26,
   "id": "f4bcc749",
   "metadata": {},
   "outputs": [
    {
     "data": {
      "text/plain": [
       "'module://matplotlib_inline.backend_inline'"
      ]
     },
     "execution_count": 26,
     "metadata": {},
     "output_type": "execute_result"
    }
   ],
   "source": [
    "import matplotlib.pyplot as plt\n",
    "plt.get_backend()"
   ]
  },
  {
   "cell_type": "code",
   "execution_count": 27,
   "id": "1576fe1d",
   "metadata": {},
   "outputs": [
    {
     "data": {
      "text/plain": [
       "'nbAgg'"
      ]
     },
     "execution_count": 27,
     "metadata": {},
     "output_type": "execute_result"
    }
   ],
   "source": [
    "import matplotlib.pyplot as plt\n",
    "%matplotlib notebook\n",
    "plt.get_backend()"
   ]
  },
  {
   "cell_type": "code",
   "execution_count": 28,
   "id": "1750f4ed",
   "metadata": {},
   "outputs": [],
   "source": [
    "%matplotlib inline"
   ]
  },
  {
   "cell_type": "code",
   "execution_count": 38,
   "id": "09e0cf54",
   "metadata": {},
   "outputs": [
    {
     "data": {
      "text/plain": [
       "[<matplotlib.lines.Line2D at 0x1a0b846b070>]"
      ]
     },
     "execution_count": 38,
     "metadata": {},
     "output_type": "execute_result"
    },
    {
     "data": {
      "image/png": "[encoded data removed]",
      "text/plain": [
       "<Figure size 640x480 with 1 Axes>"
      ]
     },
     "metadata": {},
     "output_type": "display_data"
    }
   ],
   "source": [
    "plt.plot(4,5, '*')"
   ]
  },
  {
   "cell_type": "code",
   "execution_count": null,
   "id": "c17c2145",
   "metadata": {},
   "outputs": [],
   "source": [
    "x = np.array([1,2,3,4,5])\n",
    "y = x ** 2\n",
    "plt.plot"
   ]
  },
  {
   "cell_type": "code",
   "execution_count": 39,
   "id": "55e93ebe",
   "metadata": {},
   "outputs": [],
   "source": [
    "# Seaborn\n",
    "import seaborn as sns"
   ]
  },
  {
   "cell_type": "code",
   "execution_count": null,
   "id": "1df1d74b",
   "metadata": {},
   "outputs": [],
   "source": []
  }
 ],
 "metadata": {
  "kernelspec": {
   "display_name": "Python 3 (ipykernel)",
   "language": "python",
   "name": "python3"
  },
  "language_info": {
   "codemirror_mode": {
    "name": "ipython",
    "version": 3
   },
   "file_extension": ".py",
   "mimetype": "text/x-python",
   "name": "python",
   "nbconvert_exporter": "python",
   "pygments_lexer": "ipython3",
   "version": "3.9.13"
  }
 },
 "nbformat": 4,
 "nbformat_minor": 5
}
