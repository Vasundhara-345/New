{
 "cells": [
  {
   "cell_type": "markdown",
   "id": "a28ceee3",
   "metadata": {},
   "source": [
    "# Object Oriented Programming"
   ]
  },
  {
   "cell_type": "code",
   "execution_count": 13,
   "id": "c558bc01",
   "metadata": {},
   "outputs": [
    {
     "name": "stdout",
     "output_type": "stream",
     "text": [
      "init\n",
      "init\n",
      "<__main__.Sample object at 0x0000023FFA836A90>\n",
      "<__main__.Sample object at 0x0000023FFA7E8820>\n",
      "2473808753584\n",
      "2473808753584\n"
     ]
    }
   ],
   "source": [
    "# Naming of classes are done in Pascal case\n",
    "class Sample:\n",
    "    \n",
    "    def __init__(self):\n",
    "        self.name = \"Sradhya\"\n",
    "        print(\"init\")\n",
    "            \n",
    "    \n",
    "obj1 = Sample()\n",
    "obj2 = Sample()\n",
    "\n",
    "print(obj1)\n",
    "print(obj2)\n",
    "\n",
    "print(id(obj1.name))\n",
    "print(id(obj2.name))"
   ]
  },
  {
   "cell_type": "code",
   "execution_count": 16,
   "id": "d15906f5",
   "metadata": {},
   "outputs": [
    {
     "name": "stdout",
     "output_type": "stream",
     "text": [
      "Jobin 22\n",
      "Arun 23\n"
     ]
    }
   ],
   "source": [
    "class Student:\n",
    "    def __init__(self,name,age):     # self is used to reference\n",
    "        self.name = name\n",
    "        self.age = age\n",
    "    \n",
    "    def display(self):\n",
    "        print(self.name,self.age)\n",
    "        \n",
    "s1 = Student(name = \"Jobin\", age = 22)\n",
    "s2 = Student(name = \"Arun\", age = 23)\n",
    "\n",
    "s1.display()\n",
    "s2.display()"
   ]
  },
  {
   "cell_type": "code",
   "execution_count": 18,
   "id": "49448d55",
   "metadata": {},
   "outputs": [
    {
     "name": "stdout",
     "output_type": "stream",
     "text": [
      "Macbeth William Shakespeare 400\n",
      "Little Women Louisa May Alcott 500\n",
      "The Ivory Throne Manu S Pillai 700\n"
     ]
    }
   ],
   "source": [
    "class Book:\n",
    "    def __init__(self,name,author,price):\n",
    "        self.name = name \n",
    "        self.author = author\n",
    "        self.price = price\n",
    "        \n",
    "    def display(self):\n",
    "        print(self.name, self.author, self.price)\n",
    "        \n",
    "b1 = Book(name = \"Macbeth\", author = \"William Shakespeare\", price = 400)\n",
    "b2 = Book(name = \"Little Women\", author = \"Louisa May Alcott\", price = 500)\n",
    "b3 = Book(name = \"The Ivory Throne\", author = \"Manu S Pillai\", price = 700)\n",
    "\n",
    "b1.display()\n",
    "b2.display()\n",
    "b3.display()"
   ]
  },
  {
   "cell_type": "code",
   "execution_count": 25,
   "id": "28507b3b",
   "metadata": {},
   "outputs": [
    {
     "name": "stdout",
     "output_type": "stream",
     "text": [
      "__init__\n",
      "Bark\n",
      "Hello\n"
     ]
    }
   ],
   "source": [
    "class Animal:              # Base Class\n",
    "    def __init__(self,name):\n",
    "        self.name = name \n",
    "        print(\"__init__\")\n",
    "        \n",
    "    def speak(self):\n",
    "        pass\n",
    "    \n",
    "\n",
    "class Sample:              # Base Class \n",
    "    def hello(self):\n",
    "        print(\"Hello\")\n",
    "        \n",
    "        \n",
    "class Dog(Animal,Sample):  # Derived Class\n",
    "    def speak(self):\n",
    "        print(\"Bark\")\n",
    "       \n",
    "d1 = Dog(\"Rotweiler\")    \n",
    "        \n",
    "d1.speak()\n",
    "d1.hello()"
   ]
  },
  {
   "cell_type": "code",
   "execution_count": 40,
   "id": "4de8ff8c",
   "metadata": {},
   "outputs": [
    {
     "name": "stdout",
     "output_type": "stream",
     "text": [
      "init\n",
      "Hello\n",
      "Mammal\n",
      "Hello from mammal\n"
     ]
    }
   ],
   "source": [
    "# Method Overriding\n",
    "\n",
    "class Animal:\n",
    "    def __init__(self,name):\n",
    "        self.name = name  \n",
    "        print(\"init\")\n",
    "        \n",
    "    def hello(self):\n",
    "        print(\"Hello\")\n",
    "        \n",
    "            \n",
    "class Mammal(Animal):\n",
    "    def __init__(self):\n",
    "       print(\"Mammal\")\n",
    "    \n",
    "    def hello(self):\n",
    "        print(\"Hello from mammal\")\n",
    "            \n",
    "       \n",
    "a = Animal(\"Dog\")\n",
    "a.hello()\n",
    "\n",
    "m1 = Mammal()\n",
    "m1.hello()"
   ]
  },
  {
   "cell_type": "code",
   "execution_count": 41,
   "id": "4f12d361",
   "metadata": {},
   "outputs": [
    {
     "name": "stdout",
     "output_type": "stream",
     "text": [
      "Nikitha 18 4566\n",
      "Sradhya 18\n",
      "Sradhya 18 8991\n"
     ]
    }
   ],
   "source": [
    "class Person:\n",
    "    def __init__(self,name,age,id):\n",
    "        self.name = name \n",
    "        self.age = age\n",
    "        self.id = id\n",
    "        \n",
    "    def display_data(self):\n",
    "        print(self.name, self.age, self.id)\n",
    "        \n",
    "class Employee(Person):\n",
    "    def  display_data(self):\n",
    "        print(self.name, self.age)\n",
    "        super().display_data()\n",
    "        \n",
    "s1 = Person(\"Nikitha\", 18, 4566)\n",
    "s1.display_data()\n",
    "\n",
    "m1 = Employee(\"Sradhya\",18, 8991)\n",
    "m1.display_data()"
   ]
  },
  {
   "cell_type": "code",
   "execution_count": null,
   "id": "2efc5f6f",
   "metadata": {},
   "outputs": [],
   "source": [
    "class Animal:\n",
    "    def __init__(self,name):\n",
    "        self.name = name\n",
    "        \n",
    "    def info(self):\n",
    "        print(self.name)\n",
    "        \n",
    "            \n",
    "class Mammal(Animal):\n",
    "    def __init__(self,name,has_fur):\n",
    "        self.has_fur = has_fur\n",
    "        super().__init__(name)\n",
    "        \n",
    "    def has_fur_or_not(self):\n",
    "        if self.has_fur:\n",
    "            print(f\"{self.name} has fur\")\n",
    "        else:\n",
    "            print(f\"{self.name} does noot have fur\")\n",
    "            \n",
    "class Dog(Mammal):\n",
    "    def __init__(self,name,has_fur,breed):\n",
    "        super().__init__(name,has_fur)\n",
    "        self.breed = breed\n",
    "        \n",
    "d1 = Dog(\"Leo\",True,\"Samoyed\")"
   ]
  },
  {
   "cell_type": "code",
   "execution_count": 46,
   "id": "fd677748",
   "metadata": {},
   "outputs": [
    {
     "name": "stdout",
     "output_type": "stream",
     "text": [
      "Current balance is: 12000\n",
      "Current balance is: 5000\n",
      "Bank fees is: 250.0\n",
      "Name: Ajay\n",
      "Account number: 78000012343\n",
      "Available balance: 5000\n"
     ]
    }
   ],
   "source": [
    "class BankAccount:\n",
    "    def __init__(self,name,accno,balance):\n",
    "        self.name = name\n",
    "        self.accno = accno\n",
    "        self.balance = balance\n",
    "        \n",
    "    def deposit(self,amt):\n",
    "        self.amt = amt\n",
    "        self.balance += self.amt\n",
    "        print(\"Current balance is:\",self.balance)\n",
    "        \n",
    "    def withdrawal(self,amt):\n",
    "        self.amt = amt\n",
    "        if self.balance < self.amt:\n",
    "            print(\"Insufficient Funds!\")\n",
    "        else:\n",
    "            self.balance -= self.amt\n",
    "        print(\"Current balance is:\",self.balance)\n",
    "        \n",
    "    def bankFees(self):\n",
    "        fees = 0.05 * self.balance\n",
    "        print(\"Bank fees is:\",fees)\n",
    "        \n",
    "    def display(self):\n",
    "        print(\"Name:\",self.name)\n",
    "        print(\"Account number:\",self.accno)\n",
    "        print(\"Available balance:\",self.balance)\n",
    "        \n",
    "b = BankAccount(\"Ajay\",78000012343,10000)\n",
    "b.deposit(2000)\n",
    "b.withdrawal(7000)\n",
    "b.bankFees()\n",
    "b.display()"
   ]
  },
  {
   "cell_type": "code",
   "execution_count": null,
   "id": "7f2e7db9",
   "metadata": {},
   "outputs": [],
   "source": []
  }
 ],
 "metadata": {
  "kernelspec": {
   "display_name": "Python 3 (ipykernel)",
   "language": "python",
   "name": "python3"
  },
  "language_info": {
   "codemirror_mode": {
    "name": "ipython",
    "version": 3
   },
   "file_extension": ".py",
   "mimetype": "text/x-python",
   "name": "python",
   "nbconvert_exporter": "python",
   "pygments_lexer": "ipython3",
   "version": "3.9.13"
  }
 },
 "nbformat": 4,
 "nbformat_minor": 5
}
